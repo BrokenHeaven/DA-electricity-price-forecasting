{
 "cells": [
  {
   "cell_type": "code",
   "execution_count": 1,
   "metadata": {
    "collapsed": true
   },
   "outputs": [],
   "source": [
    "import pandas as pd\n",
    "import datetime as dt\n",
    "import numpy as np\n",
    "\n",
    "%matplotlib inline"
   ]
  },
  {
   "cell_type": "code",
   "execution_count": 2,
   "metadata": {
    "collapsed": true
   },
   "outputs": [],
   "source": [
    "date_parser = lambda x: dt.datetime.strptime(x[0:16], '%d.%m.%Y %H:%M')\n",
    "\n",
    "data_raw1 = pd.read_csv('./raw_data/Total Load - Day Ahead Forecast - Actual_201501010000-201601010000.csv',\n",
    "                        index_col=0, date_parser=date_parser)\n",
    "\n",
    "data_raw2 = pd.read_csv('./raw_data/Total Load - Day Ahead Forecast- Actual_201601010000-201701010000.csv',\n",
    "                        index_col=0, date_parser=date_parser)\n",
    "\n",
    "data_raw3 = pd.read_csv('./raw_data/Total Load - Day Ahead Forecast - Actual_201701010000-201801010000.csv',\n",
    "                        index_col=0, date_parser=date_parser)\n",
    "\n",
    "\n",
    "data_raw1_f = pd.read_csv('./raw_data/Generation Forecasts - Day Ahead for Wind and Solar_201501010000-201601010000.csv',\n",
    "                        index_col=0, date_parser=date_parser)\n",
    "\n",
    "data_raw2_f = pd.read_csv('./raw_data/Generation Forecasts - Day Ahead for Wind and Solar_201601010000-201701010000.csv',\n",
    "                        index_col=0, date_parser=date_parser)\n",
    "\n",
    "data_raw3_f = pd.read_csv('./raw_data/Generation Forecasts - Day Ahead for Wind and Solar_201701010000-201801010000.csv',\n",
    "                        index_col=0, date_parser=date_parser)\n",
    "\n",
    "\n",
    "data_raw_load=pd.concat([data_raw1, data_raw2, data_raw3])\n",
    "data_raw_forecast = pd.concat([data_raw1_f, data_raw2_f, data_raw3_f])\n",
    "\n",
    "data_raw = pd.concat([data_raw_load, data_raw_forecast], axis=1)\n",
    "\n",
    "data_raw = data_raw.replace(['-', 'n/e'], np.NaN).dropna(how='all')\n",
    "\n",
    "data = pd.DataFrame(data_raw.astype(float))\n",
    "\n",
    "data.columns = ['load_forecast', 'load_true', 'sum_forecast', 'solar_forecast', 'offshore_forecast', 'onshore_forecast']\n",
    "\n",
    "data[:'2017-08-30'].to_csv('./processed_data/20150101-20170830-forecast_load_renewable_gen.csv')"
   ]
  },
  {
   "cell_type": "code",
   "execution_count": null,
   "metadata": {
    "collapsed": true
   },
   "outputs": [],
   "source": [
    "date_parser = lambda x: dt.datetime.strptime(x[0:16], '%d.%m.%Y %H:%M')\n",
    "\n",
    "data_raw1 = pd.read_csv('./raw_data/Actual Generation per Production Type_201601010000-201701010000.csv', index_col=1,\n",
    "                      date_parser=date_parser)\n",
    "\n",
    "data_raw2 = pd.read_csv('./raw_data/Actual Generation per Production Type_201501010000-201601010000.csv', index_col=1,\n",
    "                      date_parser=date_parser)\n",
    "\n",
    "data_raw3 = pd.read_csv('./raw_data/Actual Generation per Production Type_201701010000-201801010000.csv', index_col=1,\n",
    "                      date_parser=date_parser)\n",
    "\n",
    "data_raw = pd.concat([data_raw2, data_raw1, data_raw3])\n",
    "\n",
    "data_raw = data_raw.drop('Area', axis=1)\n",
    "\n",
    "data_raw = data_raw.replace(['-', 'n/e'], np.NaN).dropna(how='all')\n",
    "\n",
    "data_raw = data_raw[:'2017-08-30 23:45']\n",
    "\n",
    "significant_cols = ['Biomass  - Actual Aggregated [MW]', 'Fossil Brown coal/Lignite  - Actual Aggregated [MW]',\n",
    "                'Fossil Hard coal  - Actual Aggregated [MW]','Wind Offshore  - Actual Aggregated [MW]',\n",
    "                'Hydro Pumped Storage  - Actual Aggregated [MW]', 'Solar  - Actual Aggregated [MW]',\n",
    "                'Hydro Run-of-river and poundage  - Actual Aggregated [MW]', 'Wind Onshore  - Actual Aggregated [MW]',\n",
    "                'Nuclear  - Actual Aggregated [MW]', 'Other  - Actual Aggregated [MW]']\n",
    "\n",
    "data = data_raw[significant_cols].astype(float)\n",
    "\n",
    "short_cols = ['biomass', 'brown_coal', 'hard_coal', 'wind_offshore', 'pumped_hydro', 'solar', 'river_hydro',\n",
    "              'wind_onshore', 'nuclear', 'other']\n",
    "\n",
    "data.columns = short_cols\n",
    "\n",
    "data.to_csv('./processed_data/20150101-20170830-gen_per_prod_type.csv')"
   ]
  }
 ],
 "metadata": {
  "kernelspec": {
   "display_name": "Python 3",
   "language": "python",
   "name": "python3"
  },
  "language_info": {
   "codemirror_mode": {
    "name": "ipython",
    "version": 3
   },
   "file_extension": ".py",
   "mimetype": "text/x-python",
   "name": "python",
   "nbconvert_exporter": "python",
   "pygments_lexer": "ipython3",
   "version": "3.6.1"
  }
 },
 "nbformat": 4,
 "nbformat_minor": 2
}
