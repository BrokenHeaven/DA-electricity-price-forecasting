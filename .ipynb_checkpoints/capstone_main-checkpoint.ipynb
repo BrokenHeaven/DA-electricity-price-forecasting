{
 "cells": [
  {
   "cell_type": "code",
   "execution_count": 1,
   "metadata": {},
   "outputs": [
    {
     "name": "stderr",
     "output_type": "stream",
     "text": [
      "Using TensorFlow backend.\n"
     ]
    }
   ],
   "source": [
    "import pandas as pd\n",
    "import datetime as dt\n",
    "from keras.models import Model, load_model\n",
    "from keras.layers import LSTM, Dense, Input, Dropout, Activation\n",
    "from keras.layers.convolutional import Conv1D\n",
    "from keras.callbacks import ModelCheckpoint\n",
    "from sklearn.preprocessing import MinMaxScaler\n",
    "from sklearn.metrics import mean_absolute_error\n",
    "import numpy as np\n",
    "%matplotlib inline"
   ]
  },
  {
   "cell_type": "code",
   "execution_count": 2,
   "metadata": {
    "collapsed": true
   },
   "outputs": [],
   "source": [
    "data = pd.read_csv('./20070720-20170831_day-ahed_hourly_market-clearing-price.csv', parse_dates=True, index_col=0)"
   ]
  },
  {
   "cell_type": "code",
   "execution_count": 3,
   "metadata": {},
   "outputs": [
    {
     "data": {
      "text/plain": [
       "False"
      ]
     },
     "execution_count": 3,
     "metadata": {},
     "output_type": "execute_result"
    }
   ],
   "source": [
    "any(data.index.to_series().diff() > dt.timedelta(hours=1))"
   ]
  },
  {
   "cell_type": "code",
   "execution_count": 4,
   "metadata": {
    "collapsed": true
   },
   "outputs": [],
   "source": [
    "q75 = data['DA_mcp'].quantile(.75)\n",
    "q25 = data['DA_mcp'].quantile(.25)\n",
    "IQR = q75 - q25\n",
    "\n",
    "data['DA_mcp'] = data['DA_mcp'].apply(lambda x: q75 + 3 * IQR if (x > q75 + 3 * IQR) else x)\n",
    "data['DA_mcp'] = data['DA_mcp'].apply(lambda x: q25 - 3 * IQR if (x < q75 - 3 * IQR) else x)"
   ]
  },
  {
   "cell_type": "code",
   "execution_count": 6,
   "metadata": {},
   "outputs": [
    {
     "data": {
      "text/plain": [
       "<matplotlib.axes._subplots.AxesSubplot at 0x7f2f4bba1278>"
      ]
     },
     "execution_count": 6,
     "metadata": {},
     "output_type": "execute_result"
    },
    {
     "data": {
      "image/png": "[encoded data removed]",
      "text/plain": [
       "<matplotlib.figure.Figure at 0x7f2f84935d68>"
      ]
     },
     "metadata": {},
     "output_type": "display_data"
    }
   ],
   "source": [
    "data.plot()"
   ]
  },
  {
   "cell_type": "code",
   "execution_count": 5,
   "metadata": {
    "collapsed": true
   },
   "outputs": [],
   "source": [
    "data_scaled = pd.DataFrame(index=data.index)\n",
    "scaler = MinMaxScaler()\n",
    "data_scaled['DA_mcp'] = scaler.fit_transform(data)"
   ]
  },
  {
   "cell_type": "code",
   "execution_count": 6,
   "metadata": {
    "collapsed": true
   },
   "outputs": [],
   "source": [
    "for lag in range(1, 168 + 1):\n",
    "    data_scaled[lag] = data_scaled['DA_mcp'].shift(lag)"
   ]
  },
  {
   "cell_type": "code",
   "execution_count": 7,
   "metadata": {
    "collapsed": true
   },
   "outputs": [],
   "source": [
    "data_scaled.dropna(inplace=True)"
   ]
  },
  {
   "cell_type": "code",
   "execution_count": 8,
   "metadata": {
    "collapsed": true
   },
   "outputs": [],
   "source": [
    "labels = data_scaled['DA_mcp'].as_matrix().reshape(-1, 1)"
   ]
  },
  {
   "cell_type": "code",
   "execution_count": 9,
   "metadata": {
    "collapsed": true
   },
   "outputs": [],
   "source": [
    "data_scaled.drop('DA_mcp', axis=1, inplace=True)"
   ]
  },
  {
   "cell_type": "code",
   "execution_count": 10,
   "metadata": {
    "collapsed": true
   },
   "outputs": [],
   "source": [
    "features = data_scaled.as_matrix()"
   ]
  },
  {
   "cell_type": "code",
   "execution_count": 11,
   "metadata": {
    "collapsed": true
   },
   "outputs": [],
   "source": [
    "test_len = len(pd.date_range(dt.datetime(2017, 1, 1), data.index[-1], freq='1H'))"
   ]
  },
  {
   "cell_type": "code",
   "execution_count": 12,
   "metadata": {
    "collapsed": true
   },
   "outputs": [],
   "source": [
    "X_train, X_test = features[:-test_len], features[-test_len:]\n",
    "y_train, y_test = labels[:-test_len], labels[-test_len:]"
   ]
  },
  {
   "cell_type": "code",
   "execution_count": 13,
   "metadata": {},
   "outputs": [
    {
     "data": {
      "text/plain": [
       "243.0"
      ]
     },
     "execution_count": 13,
     "metadata": {},
     "output_type": "execute_result"
    }
   ],
   "source": [
    "X_test.shape[0]/24"
   ]
  },
  {
   "cell_type": "code",
   "execution_count": 14,
   "metadata": {},
   "outputs": [
    {
     "data": {
      "text/plain": [
       "3446.0"
      ]
     },
     "execution_count": 14,
     "metadata": {},
     "output_type": "execute_result"
    }
   ],
   "source": [
    "X_train.shape[0]/24"
   ]
  },
  {
   "cell_type": "code",
   "execution_count": 60,
   "metadata": {},
   "outputs": [
    {
     "data": {
      "text/plain": [
       "(82704, 1)"
      ]
     },
     "execution_count": 60,
     "metadata": {},
     "output_type": "execute_result"
    }
   ],
   "source": [
    "y_train.shape"
   ]
  },
  {
   "cell_type": "code",
   "execution_count": 61,
   "metadata": {
    "collapsed": true
   },
   "outputs": [],
   "source": [
    "X_train_LSTM = X_train.reshape(X_train.shape[0], X_train.shape[1], 1)\n",
    "X_test_LSTM = X_test.reshape(X_test.shape[0], X_test.shape[1], 1)"
   ]
  },
  {
   "cell_type": "code",
   "execution_count": 373,
   "metadata": {
    "collapsed": true
   },
   "outputs": [],
   "source": [
    "input_layer = Input(shape=(X_train_LSTM.shape[1], X_train_LSTM.shape[2]))\n",
    "x = LSTM(64)(input_layer)\n",
    "# x = LSTM(32, return_sequences=True)(x)\n",
    "# x = LSTM(32)(x)\n",
    "x = Dense(1)(x)"
   ]
  },
  {
   "cell_type": "code",
   "execution_count": 374,
   "metadata": {},
   "outputs": [
    {
     "name": "stdout",
     "output_type": "stream",
     "text": [
      "_________________________________________________________________\n",
      "Layer (type)                 Output Shape              Param #   \n",
      "=================================================================\n",
      "input_25 (InputLayer)        (None, 168, 1)            0         \n",
      "_________________________________________________________________\n",
      "lstm_27 (LSTM)               (None, 64)                16896     \n",
      "_________________________________________________________________\n",
      "dense_22 (Dense)             (None, 1)                 65        \n",
      "=================================================================\n",
      "Total params: 16,961\n",
      "Trainable params: 16,961\n",
      "Non-trainable params: 0\n",
      "_________________________________________________________________\n"
     ]
    }
   ],
   "source": [
    "model = Model(inputs=[input_layer], outputs=[x])\n",
    "model.summary()"
   ]
  },
  {
   "cell_type": "code",
   "execution_count": 375,
   "metadata": {
    "collapsed": true
   },
   "outputs": [],
   "source": [
    "model.compile(loss='mse', optimizer='adam', metrics=['mse', 'mae'])"
   ]
  },
  {
   "cell_type": "code",
   "execution_count": 376,
   "metadata": {},
   "outputs": [
    {
     "name": "stdout",
     "output_type": "stream",
     "text": [
      "Train on 82704 samples, validate on 5832 samples\n",
      "Epoch 1/5\n"
     ]
    },
    {
     "ename": "KeyboardInterrupt",
     "evalue": "",
     "output_type": "error",
     "traceback": [
      "\u001b[0;31m---------------------------------------------------------------------------\u001b[0m",
      "\u001b[0;31mKeyboardInterrupt\u001b[0m                         Traceback (most recent call last)",
      "\u001b[0;32m<ipython-input-376-14ca8825c342>\u001b[0m in \u001b[0;36m<module>\u001b[0;34m()\u001b[0m\n\u001b[1;32m      1\u001b[0m \u001b[0mcheckpointer\u001b[0m \u001b[0;34m=\u001b[0m \u001b[0mModelCheckpoint\u001b[0m\u001b[0;34m(\u001b[0m\u001b[0;34m'./{}_1step_TS-only_simple.hdf5'\u001b[0m\u001b[0;34m.\u001b[0m\u001b[0mformat\u001b[0m\u001b[0;34m(\u001b[0m\u001b[0mdt\u001b[0m\u001b[0;34m.\u001b[0m\u001b[0mdate\u001b[0m\u001b[0;34m.\u001b[0m\u001b[0mtoday\u001b[0m\u001b[0;34m(\u001b[0m\u001b[0;34m)\u001b[0m\u001b[0;34m)\u001b[0m\u001b[0;34m,\u001b[0m \u001b[0msave_best_only\u001b[0m\u001b[0;34m=\u001b[0m\u001b[0;32mTrue\u001b[0m\u001b[0;34m)\u001b[0m\u001b[0;34m\u001b[0m\u001b[0m\n\u001b[1;32m      2\u001b[0m model.fit(X_train_LSTM, y_train, validation_data=(X_test_LSTM, y_test), verbose=1, epochs=5, batch_size=500,\n\u001b[0;32m----> 3\u001b[0;31m           callbacks=[checkpointer])\n\u001b[0m",
      "\u001b[0;32m~/opt/anaconda3/envs/datascience/lib/python3.6/site-packages/keras/engine/training.py\u001b[0m in \u001b[0;36mfit\u001b[0;34m(self, x, y, batch_size, epochs, verbose, callbacks, validation_split, validation_data, shuffle, class_weight, sample_weight, initial_epoch, **kwargs)\u001b[0m\n\u001b[1;32m   1505\u001b[0m                               \u001b[0mval_f\u001b[0m\u001b[0;34m=\u001b[0m\u001b[0mval_f\u001b[0m\u001b[0;34m,\u001b[0m \u001b[0mval_ins\u001b[0m\u001b[0;34m=\u001b[0m\u001b[0mval_ins\u001b[0m\u001b[0;34m,\u001b[0m \u001b[0mshuffle\u001b[0m\u001b[0;34m=\u001b[0m\u001b[0mshuffle\u001b[0m\u001b[0;34m,\u001b[0m\u001b[0;34m\u001b[0m\u001b[0m\n\u001b[1;32m   1506\u001b[0m                               \u001b[0mcallback_metrics\u001b[0m\u001b[0;34m=\u001b[0m\u001b[0mcallback_metrics\u001b[0m\u001b[0;34m,\u001b[0m\u001b[0;34m\u001b[0m\u001b[0m\n\u001b[0;32m-> 1507\u001b[0;31m                               initial_epoch=initial_epoch)\n\u001b[0m\u001b[1;32m   1508\u001b[0m \u001b[0;34m\u001b[0m\u001b[0m\n\u001b[1;32m   1509\u001b[0m     \u001b[0;32mdef\u001b[0m \u001b[0mevaluate\u001b[0m\u001b[0;34m(\u001b[0m\u001b[0mself\u001b[0m\u001b[0;34m,\u001b[0m \u001b[0mx\u001b[0m\u001b[0;34m,\u001b[0m \u001b[0my\u001b[0m\u001b[0;34m,\u001b[0m \u001b[0mbatch_size\u001b[0m\u001b[0;34m=\u001b[0m\u001b[0;36m32\u001b[0m\u001b[0;34m,\u001b[0m \u001b[0mverbose\u001b[0m\u001b[0;34m=\u001b[0m\u001b[0;36m1\u001b[0m\u001b[0;34m,\u001b[0m \u001b[0msample_weight\u001b[0m\u001b[0;34m=\u001b[0m\u001b[0;32mNone\u001b[0m\u001b[0;34m)\u001b[0m\u001b[0;34m:\u001b[0m\u001b[0;34m\u001b[0m\u001b[0m\n",
      "\u001b[0;32m~/opt/anaconda3/envs/datascience/lib/python3.6/site-packages/keras/engine/training.py\u001b[0m in \u001b[0;36m_fit_loop\u001b[0;34m(self, f, ins, out_labels, batch_size, epochs, verbose, callbacks, val_f, val_ins, shuffle, callback_metrics, initial_epoch)\u001b[0m\n\u001b[1;32m   1145\u001b[0m                         \u001b[0mins_batch\u001b[0m \u001b[0;34m=\u001b[0m \u001b[0m_slice_arrays\u001b[0m\u001b[0;34m(\u001b[0m\u001b[0mins\u001b[0m\u001b[0;34m[\u001b[0m\u001b[0;34m:\u001b[0m\u001b[0;34m-\u001b[0m\u001b[0;36m1\u001b[0m\u001b[0;34m]\u001b[0m\u001b[0;34m,\u001b[0m \u001b[0mbatch_ids\u001b[0m\u001b[0;34m)\u001b[0m \u001b[0;34m+\u001b[0m \u001b[0;34m[\u001b[0m\u001b[0mins\u001b[0m\u001b[0;34m[\u001b[0m\u001b[0;34m-\u001b[0m\u001b[0;36m1\u001b[0m\u001b[0;34m]\u001b[0m\u001b[0;34m]\u001b[0m\u001b[0;34m\u001b[0m\u001b[0m\n\u001b[1;32m   1146\u001b[0m                     \u001b[0;32melse\u001b[0m\u001b[0;34m:\u001b[0m\u001b[0;34m\u001b[0m\u001b[0m\n\u001b[0;32m-> 1147\u001b[0;31m                         \u001b[0mins_batch\u001b[0m \u001b[0;34m=\u001b[0m \u001b[0m_slice_arrays\u001b[0m\u001b[0;34m(\u001b[0m\u001b[0mins\u001b[0m\u001b[0;34m,\u001b[0m \u001b[0mbatch_ids\u001b[0m\u001b[0;34m)\u001b[0m\u001b[0;34m\u001b[0m\u001b[0m\n\u001b[0m\u001b[1;32m   1148\u001b[0m                 \u001b[0;32mexcept\u001b[0m \u001b[0mTypeError\u001b[0m\u001b[0;34m:\u001b[0m\u001b[0;34m\u001b[0m\u001b[0m\n\u001b[1;32m   1149\u001b[0m                     raise TypeError('TypeError while preparing batch. '\n",
      "\u001b[0;32m~/opt/anaconda3/envs/datascience/lib/python3.6/site-packages/keras/engine/training.py\u001b[0m in \u001b[0;36m_slice_arrays\u001b[0;34m(arrays, start, stop)\u001b[0m\n\u001b[1;32m    392\u001b[0m             \u001b[0;32mif\u001b[0m \u001b[0mhasattr\u001b[0m\u001b[0;34m(\u001b[0m\u001b[0mstart\u001b[0m\u001b[0;34m,\u001b[0m \u001b[0;34m'shape'\u001b[0m\u001b[0;34m)\u001b[0m\u001b[0;34m:\u001b[0m\u001b[0;34m\u001b[0m\u001b[0m\n\u001b[1;32m    393\u001b[0m                 \u001b[0mstart\u001b[0m \u001b[0;34m=\u001b[0m \u001b[0mstart\u001b[0m\u001b[0;34m.\u001b[0m\u001b[0mtolist\u001b[0m\u001b[0;34m(\u001b[0m\u001b[0;34m)\u001b[0m\u001b[0;34m\u001b[0m\u001b[0m\n\u001b[0;32m--> 394\u001b[0;31m             \u001b[0;32mreturn\u001b[0m \u001b[0;34m[\u001b[0m\u001b[0mx\u001b[0m\u001b[0;34m[\u001b[0m\u001b[0mstart\u001b[0m\u001b[0;34m]\u001b[0m \u001b[0;32mfor\u001b[0m \u001b[0mx\u001b[0m \u001b[0;32min\u001b[0m \u001b[0marrays\u001b[0m\u001b[0;34m]\u001b[0m\u001b[0;34m\u001b[0m\u001b[0m\n\u001b[0m\u001b[1;32m    395\u001b[0m         \u001b[0;32melse\u001b[0m\u001b[0;34m:\u001b[0m\u001b[0;34m\u001b[0m\u001b[0m\n\u001b[1;32m    396\u001b[0m             \u001b[0;32mreturn\u001b[0m \u001b[0;34m[\u001b[0m\u001b[0mx\u001b[0m\u001b[0;34m[\u001b[0m\u001b[0mstart\u001b[0m\u001b[0;34m:\u001b[0m\u001b[0mstop\u001b[0m\u001b[0;34m]\u001b[0m \u001b[0;32mfor\u001b[0m \u001b[0mx\u001b[0m \u001b[0;32min\u001b[0m \u001b[0marrays\u001b[0m\u001b[0;34m]\u001b[0m\u001b[0;34m\u001b[0m\u001b[0m\n",
      "\u001b[0;32m~/opt/anaconda3/envs/datascience/lib/python3.6/site-packages/keras/engine/training.py\u001b[0m in \u001b[0;36m<listcomp>\u001b[0;34m(.0)\u001b[0m\n\u001b[1;32m    392\u001b[0m             \u001b[0;32mif\u001b[0m \u001b[0mhasattr\u001b[0m\u001b[0;34m(\u001b[0m\u001b[0mstart\u001b[0m\u001b[0;34m,\u001b[0m \u001b[0;34m'shape'\u001b[0m\u001b[0;34m)\u001b[0m\u001b[0;34m:\u001b[0m\u001b[0;34m\u001b[0m\u001b[0m\n\u001b[1;32m    393\u001b[0m                 \u001b[0mstart\u001b[0m \u001b[0;34m=\u001b[0m \u001b[0mstart\u001b[0m\u001b[0;34m.\u001b[0m\u001b[0mtolist\u001b[0m\u001b[0;34m(\u001b[0m\u001b[0;34m)\u001b[0m\u001b[0;34m\u001b[0m\u001b[0m\n\u001b[0;32m--> 394\u001b[0;31m             \u001b[0;32mreturn\u001b[0m \u001b[0;34m[\u001b[0m\u001b[0mx\u001b[0m\u001b[0;34m[\u001b[0m\u001b[0mstart\u001b[0m\u001b[0;34m]\u001b[0m \u001b[0;32mfor\u001b[0m \u001b[0mx\u001b[0m \u001b[0;32min\u001b[0m \u001b[0marrays\u001b[0m\u001b[0;34m]\u001b[0m\u001b[0;34m\u001b[0m\u001b[0m\n\u001b[0m\u001b[1;32m    395\u001b[0m         \u001b[0;32melse\u001b[0m\u001b[0;34m:\u001b[0m\u001b[0;34m\u001b[0m\u001b[0m\n\u001b[1;32m    396\u001b[0m             \u001b[0;32mreturn\u001b[0m \u001b[0;34m[\u001b[0m\u001b[0mx\u001b[0m\u001b[0;34m[\u001b[0m\u001b[0mstart\u001b[0m\u001b[0;34m:\u001b[0m\u001b[0mstop\u001b[0m\u001b[0;34m]\u001b[0m \u001b[0;32mfor\u001b[0m \u001b[0mx\u001b[0m \u001b[0;32min\u001b[0m \u001b[0marrays\u001b[0m\u001b[0;34m]\u001b[0m\u001b[0;34m\u001b[0m\u001b[0m\n",
      "\u001b[0;31mKeyboardInterrupt\u001b[0m: "
     ]
    }
   ],
   "source": [
    "checkpointer = ModelCheckpoint('./{}_1step_TS-only_simple.hdf5'.format(dt.date.today()), save_best_only=True)\n",
    "model.fit(X_train_LSTM, y_train, validation_data=(X_test_LSTM, y_test), verbose=1, epochs=5, batch_size=500,\n",
    "          callbacks=[checkpointer])"
   ]
  },
  {
   "cell_type": "code",
   "execution_count": 66,
   "metadata": {
    "collapsed": true
   },
   "outputs": [],
   "source": [
    "pred = model.predict(X_test_LSTM)"
   ]
  },
  {
   "cell_type": "code",
   "execution_count": 67,
   "metadata": {
    "collapsed": true
   },
   "outputs": [],
   "source": [
    "results = pd.DataFrame({'pred':pred.flatten(), 'true':y_test.flatten()})"
   ]
  },
  {
   "cell_type": "code",
   "execution_count": 68,
   "metadata": {},
   "outputs": [
    {
     "data": {
      "text/plain": [
       "<matplotlib.axes._subplots.AxesSubplot at 0x7f6331928fd0>"
      ]
     },
     "execution_count": 68,
     "metadata": {},
     "output_type": "execute_result"
    },
    {
     "data": {
      "image/png": "[encoded data removed]",
      "text/plain": [
       "<matplotlib.figure.Figure at 0x7f63480a4c18>"
      ]
     },
     "metadata": {},
     "output_type": "display_data"
    }
   ],
   "source": [
    "results.iloc[4000:4096].plot(figsize=(15, 8))"
   ]
  },
  {
   "cell_type": "markdown",
   "metadata": {},
   "source": [
    "# 24 hour direct prediction "
   ]
  },
  {
   "cell_type": "code",
   "execution_count": 15,
   "metadata": {
    "collapsed": true
   },
   "outputs": [],
   "source": [
    "new_features = data_scaled[data_scaled.index.hour == 0].as_matrix()"
   ]
  },
  {
   "cell_type": "code",
   "execution_count": 16,
   "metadata": {
    "collapsed": true
   },
   "outputs": [],
   "source": [
    "new_features_LSTM = new_features.reshape(new_features.shape[0], new_features.shape[1], 1)"
   ]
  },
  {
   "cell_type": "code",
   "execution_count": 17,
   "metadata": {
    "collapsed": true
   },
   "outputs": [],
   "source": [
    "new_labels = []\n",
    "for i in range(0, labels.shape[0], 24):\n",
    "    new_labels.append(labels[i:i+24].reshape(24))"
   ]
  },
  {
   "cell_type": "code",
   "execution_count": 18,
   "metadata": {
    "collapsed": true
   },
   "outputs": [],
   "source": [
    "new_labels = np.array(new_labels)"
   ]
  },
  {
   "cell_type": "code",
   "execution_count": 19,
   "metadata": {},
   "outputs": [
    {
     "data": {
      "text/plain": [
       "((3689, 168, 1), (3689, 24))"
      ]
     },
     "execution_count": 19,
     "metadata": {},
     "output_type": "execute_result"
    }
   ],
   "source": [
    "new_features_LSTM.shape, new_labels.shape"
   ]
  },
  {
   "cell_type": "code",
   "execution_count": 76,
   "metadata": {
    "collapsed": true
   },
   "outputs": [],
   "source": [
    "input_layer = Input(shape=(new_features_LSTM.shape[1], new_features_LSTM.shape[2]))\n",
    "x = LSTM(32, return_sequences=True, recurrent_activation='relu')(input_layer)\n",
    "# x = LSTM(12)(x)\n",
    "x = LSTM(32)(x)\n",
    "x = Dense(24)(x)"
   ]
  },
  {
   "cell_type": "code",
   "execution_count": 77,
   "metadata": {},
   "outputs": [
    {
     "name": "stdout",
     "output_type": "stream",
     "text": [
      "_________________________________________________________________\n",
      "Layer (type)                 Output Shape              Param #   \n",
      "=================================================================\n",
      "input_8 (InputLayer)         (None, 168, 1)            0         \n",
      "_________________________________________________________________\n",
      "lstm_14 (LSTM)               (None, 168, 32)           4352      \n",
      "_________________________________________________________________\n",
      "lstm_15 (LSTM)               (None, 32)                8320      \n",
      "_________________________________________________________________\n",
      "dense_7 (Dense)              (None, 24)                792       \n",
      "=================================================================\n",
      "Total params: 13,464\n",
      "Trainable params: 13,464\n",
      "Non-trainable params: 0\n",
      "_________________________________________________________________\n"
     ]
    }
   ],
   "source": [
    "model = Model(inputs=[input_layer], outputs=[x])\n",
    "model.summary()"
   ]
  },
  {
   "cell_type": "code",
   "execution_count": 78,
   "metadata": {
    "collapsed": true
   },
   "outputs": [],
   "source": [
    "model.compile(loss='mse', optimizer='adam', metrics=['mse', 'mae'])\n",
    "\n",
    "checkpointer = ModelCheckpoint('./{}_24step_TS-only_simple.hdf5'.format(dt.date.today()), save_best_only=True)\n",
    "model.fit(new_features_LSTM, new_labels, verbose=1, epochs=4, batch_size=100,\n",
    "          callbacks=[checkpointer])"
   ]
  },
  {
   "cell_type": "code",
   "execution_count": 84,
   "metadata": {
    "collapsed": true
   },
   "outputs": [],
   "source": [
    "pred = model.predict(new_features_LSTM)"
   ]
  },
  {
   "cell_type": "code",
   "execution_count": 25,
   "metadata": {
    "collapsed": true
   },
   "outputs": [],
   "source": [
    "data['pred_last_day'] = data['DA_mcp'].shift(24)"
   ]
  },
  {
   "cell_type": "code",
   "execution_count": 26,
   "metadata": {
    "collapsed": true
   },
   "outputs": [],
   "source": [
    "for lag in range(24*7, 24*7*5, 24*7):\n",
    "    data['lag_{}'.format(lag)] = data['DA_mcp'].shift(lag)"
   ]
  },
  {
   "cell_type": "code",
   "execution_count": 27,
   "metadata": {
    "collapsed": true
   },
   "outputs": [],
   "source": [
    "data['pred_last_week'] = data['DA_mcp'].shift(24*7)"
   ]
  },
  {
   "cell_type": "code",
   "execution_count": 28,
   "metadata": {},
   "outputs": [
    {
     "data": {
      "text/plain": [
       "Index(['DA_mcp', 'pred_last_day', 'lag_168', 'lag_336', 'lag_504', 'lag_672',\n",
       "       'pred_last_week'],\n",
       "      dtype='object')"
      ]
     },
     "execution_count": 28,
     "metadata": {},
     "output_type": "execute_result"
    }
   ],
   "source": [
    "data.columns"
   ]
  },
  {
   "cell_type": "code",
   "execution_count": 29,
   "metadata": {
    "collapsed": true
   },
   "outputs": [],
   "source": [
    "data['pred_avg_weekday'] = data[['lag_168', 'lag_336', 'lag_504', 'lag_672']].mean(axis=1)"
   ]
  },
  {
   "cell_type": "code",
   "execution_count": 30,
   "metadata": {},
   "outputs": [
    {
     "data": {
      "text/plain": [
       "504"
      ]
     },
     "execution_count": 30,
     "metadata": {},
     "output_type": "execute_result"
    }
   ],
   "source": [
    "len(pred.flatten()) - len(data.dropna())"
   ]
  },
  {
   "cell_type": "code",
   "execution_count": 31,
   "metadata": {},
   "outputs": [
    {
     "data": {
      "text/plain": [
       "88032"
      ]
     },
     "execution_count": 31,
     "metadata": {},
     "output_type": "execute_result"
    }
   ],
   "source": [
    "len(pred.flatten()[504:])"
   ]
  },
  {
   "cell_type": "code",
   "execution_count": 32,
   "metadata": {},
   "outputs": [
    {
     "data": {
      "text/plain": [
       "88032"
      ]
     },
     "execution_count": 32,
     "metadata": {},
     "output_type": "execute_result"
    }
   ],
   "source": [
    "len(data.dropna())"
   ]
  },
  {
   "cell_type": "code",
   "execution_count": 33,
   "metadata": {
    "collapsed": true
   },
   "outputs": [],
   "source": [
    "data.dropna(inplace=True)"
   ]
  },
  {
   "cell_type": "code",
   "execution_count": 85,
   "metadata": {
    "collapsed": true,
    "scrolled": true
   },
   "outputs": [],
   "source": [
    "data['pred_model'] = scaler.inverse_transform(pred.flatten()[504:].reshape(-1, 1))"
   ]
  },
  {
   "cell_type": "code",
   "execution_count": 91,
   "metadata": {},
   "outputs": [
    {
     "data": {
      "text/plain": [
       "<matplotlib.axes._subplots.AxesSubplot at 0x7f2ef84a0cc0>"
      ]
     },
     "execution_count": 91,
     "metadata": {},
     "output_type": "execute_result"
    },
    {
     "data": {
      "image/png": "[encoded data removed]",
      "text/plain": [
       "<matplotlib.figure.Figure at 0x7f2ef84b51d0>"
      ]
     },
     "metadata": {},
     "output_type": "display_data"
    }
   ],
   "source": [
    "data.loc[\"2016\", ['DA_mcp', 'pred_model']].plot(figsize=(15, 8))"
   ]
  },
  {
   "cell_type": "code",
   "execution_count": 36,
   "metadata": {},
   "outputs": [
    {
     "name": "stdout",
     "output_type": "stream",
     "text": [
      "7.86853645265\n"
     ]
    }
   ],
   "source": [
    "print(mean_absolute_error(y_pred=data['pred_avg_weekday'], y_true=data['DA_mcp']))"
   ]
  },
  {
   "cell_type": "code",
   "execution_count": 87,
   "metadata": {},
   "outputs": [
    {
     "name": "stdout",
     "output_type": "stream",
     "text": [
      "8.63962285153\n"
     ]
    }
   ],
   "source": [
    "print(mean_absolute_error(y_pred=data['pred_model'], y_true=data['DA_mcp']))"
   ]
  },
  {
   "cell_type": "code",
   "execution_count": 38,
   "metadata": {},
   "outputs": [
    {
     "name": "stdout",
     "output_type": "stream",
     "text": [
      "8.7568197928\n"
     ]
    }
   ],
   "source": [
    "print(mean_absolute_error(y_pred=data['pred_last_day'], y_true=data['DA_mcp']))"
   ]
  },
  {
   "cell_type": "code",
   "execution_count": 39,
   "metadata": {},
   "outputs": [
    {
     "name": "stdout",
     "output_type": "stream",
     "text": [
      "8.64627240095\n"
     ]
    }
   ],
   "source": [
    "print(mean_absolute_error(y_pred=data['pred_last_week'], y_true=data['DA_mcp']))"
   ]
  },
  {
   "cell_type": "markdown",
   "metadata": {},
   "source": [
    "### Convolutional approach"
   ]
  },
  {
   "cell_type": "code",
   "execution_count": 20,
   "metadata": {
    "collapsed": true
   },
   "outputs": [],
   "source": [
    "test_len = len(pd.date_range(dt.datetime(2017, 1, 1), data.index[-1], freq='1H')) // 24"
   ]
  },
  {
   "cell_type": "code",
   "execution_count": 21,
   "metadata": {},
   "outputs": [
    {
     "data": {
      "text/plain": [
       "243"
      ]
     },
     "execution_count": 21,
     "metadata": {},
     "output_type": "execute_result"
    }
   ],
   "source": [
    "test_len"
   ]
  },
  {
   "cell_type": "code",
   "execution_count": 34,
   "metadata": {
    "collapsed": true
   },
   "outputs": [],
   "source": [
    "X_train, X_test = new_features_LSTM[:-test_len], new_features_LSTM[-test_len:]\n",
    "y_train, y_test = new_labels[:-test_len], new_labels[-test_len:]"
   ]
  },
  {
   "cell_type": "code",
   "execution_count": 146,
   "metadata": {},
   "outputs": [
    {
     "name": "stdout",
     "output_type": "stream",
     "text": [
      "_________________________________________________________________\n",
      "Layer (type)                 Output Shape              Param #   \n",
      "=================================================================\n",
      "input_12 (InputLayer)        (None, 168, 1)            0         \n",
      "_________________________________________________________________\n",
      "conv1d_12 (Conv1D)           (None, 7, 64)             1600      \n",
      "_________________________________________________________________\n",
      "lstm_18 (LSTM)               (None, 7, 32)             12416     \n",
      "_________________________________________________________________\n",
      "lstm_19 (LSTM)               (None, 32)                8320      \n",
      "_________________________________________________________________\n",
      "dense_12 (Dense)             (None, 24)                792       \n",
      "=================================================================\n",
      "Total params: 23,128\n",
      "Trainable params: 23,128\n",
      "Non-trainable params: 0\n",
      "_________________________________________________________________\n"
     ]
    }
   ],
   "source": [
    "input_layer = Input(shape=(168,1))\n",
    "x = Conv1D(64, kernel_size=24, strides=24, padding='same')(input_layer)\n",
    "x = LSTM(32, return_sequences=True, recurrent_activation='relu')(x)\n",
    "x = LSTM(32, recurrent_activation='relu')(x)\n",
    "x = Dense(24)(x)\n",
    "model = Model(inputs=[input_layer], outputs=[x])\n",
    "model.summary()"
   ]
  },
  {
   "cell_type": "code",
   "execution_count": 147,
   "metadata": {},
   "outputs": [
    {
     "name": "stdout",
     "output_type": "stream",
     "text": [
      "Train on 3446 samples, validate on 243 samples\n",
      "Epoch 1/100\n",
      "3446/3446 [==============================] - 7s - loss: 0.0347 - mean_squared_error: 0.0347 - mean_absolute_error: 0.1117 - val_loss: 0.0069 - val_mean_squared_error: 0.0069 - val_mean_absolute_error: 0.0583\n",
      "Epoch 2/100\n",
      "3446/3446 [==============================] - 3s - loss: 0.0066 - mean_squared_error: 0.0066 - mean_absolute_error: 0.0585 - val_loss: 0.0079 - val_mean_squared_error: 0.0079 - val_mean_absolute_error: 0.0652\n",
      "Epoch 3/100\n",
      "3446/3446 [==============================] - 3s - loss: 0.0064 - mean_squared_error: 0.0064 - mean_absolute_error: 0.0579 - val_loss: 0.0064 - val_mean_squared_error: 0.0064 - val_mean_absolute_error: 0.0575\n",
      "Epoch 4/100\n",
      "3446/3446 [==============================] - 4s - loss: 0.0061 - mean_squared_error: 0.0061 - mean_absolute_error: 0.0560 - val_loss: 0.0060 - val_mean_squared_error: 0.0060 - val_mean_absolute_error: 0.0550\n",
      "Epoch 5/100\n",
      "3446/3446 [==============================] - 4s - loss: 0.0058 - mean_squared_error: 0.0058 - mean_absolute_error: 0.0544 - val_loss: 0.0061 - val_mean_squared_error: 0.0061 - val_mean_absolute_error: 0.0562\n",
      "Epoch 6/100\n",
      "3446/3446 [==============================] - 6s - loss: 0.0054 - mean_squared_error: 0.0054 - mean_absolute_error: 0.0520 - val_loss: 0.0051 - val_mean_squared_error: 0.0051 - val_mean_absolute_error: 0.0488\n",
      "Epoch 7/100\n",
      "3446/3446 [==============================] - 5s - loss: 0.0051 - mean_squared_error: 0.0051 - mean_absolute_error: 0.0504 - val_loss: 0.0049 - val_mean_squared_error: 0.0049 - val_mean_absolute_error: 0.0489\n",
      "Epoch 8/100\n",
      "3446/3446 [==============================] - 5s - loss: 0.0049 - mean_squared_error: 0.0049 - mean_absolute_error: 0.0495 - val_loss: 0.0046 - val_mean_squared_error: 0.0046 - val_mean_absolute_error: 0.0456\n",
      "Epoch 9/100\n",
      "3446/3446 [==============================] - 4s - loss: 0.0045 - mean_squared_error: 0.0045 - mean_absolute_error: 0.0479 - val_loss: 0.0047 - val_mean_squared_error: 0.0047 - val_mean_absolute_error: 0.0472\n",
      "Epoch 10/100\n",
      "3446/3446 [==============================] - 4s - loss: 0.0044 - mean_squared_error: 0.0044 - mean_absolute_error: 0.0475 - val_loss: 0.0044 - val_mean_squared_error: 0.0044 - val_mean_absolute_error: 0.0450\n",
      "Epoch 11/100\n",
      "3446/3446 [==============================] - 4s - loss: 0.0040 - mean_squared_error: 0.0040 - mean_absolute_error: 0.0449 - val_loss: 0.0041 - val_mean_squared_error: 0.0041 - val_mean_absolute_error: 0.0431\n",
      "Epoch 12/100\n",
      "3446/3446 [==============================] - 5s - loss: 0.0040 - mean_squared_error: 0.0040 - mean_absolute_error: 0.0451 - val_loss: 0.0038 - val_mean_squared_error: 0.0038 - val_mean_absolute_error: 0.0431\n",
      "Epoch 13/100\n",
      "3446/3446 [==============================] - 4s - loss: 0.0039 - mean_squared_error: 0.0039 - mean_absolute_error: 0.0443 - val_loss: 0.0047 - val_mean_squared_error: 0.0047 - val_mean_absolute_error: 0.0521\n",
      "Epoch 14/100\n",
      "3446/3446 [==============================] - 4s - loss: 0.0039 - mean_squared_error: 0.0039 - mean_absolute_error: 0.0445 - val_loss: 0.0043 - val_mean_squared_error: 0.0043 - val_mean_absolute_error: 0.0482\n",
      "Epoch 15/100\n",
      "3446/3446 [==============================] - 5s - loss: 0.0039 - mean_squared_error: 0.0039 - mean_absolute_error: 0.0443 - val_loss: 0.0041 - val_mean_squared_error: 0.0041 - val_mean_absolute_error: 0.0467\n",
      "Epoch 16/100\n",
      "3446/3446 [==============================] - 5s - loss: 0.0037 - mean_squared_error: 0.0037 - mean_absolute_error: 0.0431 - val_loss: 0.0039 - val_mean_squared_error: 0.0039 - val_mean_absolute_error: 0.0447\n",
      "Epoch 17/100\n",
      "3446/3446 [==============================] - 5s - loss: 0.0037 - mean_squared_error: 0.0037 - mean_absolute_error: 0.0430 - val_loss: 0.0036 - val_mean_squared_error: 0.0036 - val_mean_absolute_error: 0.0401\n",
      "Epoch 18/100\n",
      "3446/3446 [==============================] - 5s - loss: 0.0037 - mean_squared_error: 0.0037 - mean_absolute_error: 0.0430 - val_loss: 0.0036 - val_mean_squared_error: 0.0036 - val_mean_absolute_error: 0.0393\n",
      "Epoch 19/100\n",
      "3446/3446 [==============================] - 6s - loss: 0.0036 - mean_squared_error: 0.0036 - mean_absolute_error: 0.0425 - val_loss: 0.0036 - val_mean_squared_error: 0.0036 - val_mean_absolute_error: 0.0413\n",
      "Epoch 20/100\n",
      "3446/3446 [==============================] - 3s - loss: 0.0036 - mean_squared_error: 0.0036 - mean_absolute_error: 0.0429 - val_loss: 0.0036 - val_mean_squared_error: 0.0036 - val_mean_absolute_error: 0.0402\n",
      "Epoch 21/100\n",
      "3446/3446 [==============================] - 3s - loss: 0.0035 - mean_squared_error: 0.0035 - mean_absolute_error: 0.0419 - val_loss: 0.0037 - val_mean_squared_error: 0.0037 - val_mean_absolute_error: 0.0416\n",
      "Epoch 22/100\n",
      "3446/3446 [==============================] - 3s - loss: 0.0036 - mean_squared_error: 0.0036 - mean_absolute_error: 0.0425 - val_loss: 0.0037 - val_mean_squared_error: 0.0037 - val_mean_absolute_error: 0.0404\n",
      "Epoch 23/100\n",
      "3446/3446 [==============================] - 3s - loss: 0.0036 - mean_squared_error: 0.0036 - mean_absolute_error: 0.0424 - val_loss: 0.0037 - val_mean_squared_error: 0.0037 - val_mean_absolute_error: 0.0410\n",
      "Epoch 24/100\n",
      "3446/3446 [==============================] - 5s - loss: 0.0035 - mean_squared_error: 0.0035 - mean_absolute_error: 0.0421 - val_loss: 0.0035 - val_mean_squared_error: 0.0035 - val_mean_absolute_error: 0.0385\n",
      "Epoch 25/100\n",
      "3446/3446 [==============================] - 5s - loss: 0.0035 - mean_squared_error: 0.0035 - mean_absolute_error: 0.0416 - val_loss: 0.0035 - val_mean_squared_error: 0.0035 - val_mean_absolute_error: 0.0391\n",
      "Epoch 26/100\n",
      "3446/3446 [==============================] - 5s - loss: 0.0035 - mean_squared_error: 0.0035 - mean_absolute_error: 0.0423 - val_loss: 0.0036 - val_mean_squared_error: 0.0036 - val_mean_absolute_error: 0.0393\n",
      "Epoch 27/100\n",
      "3446/3446 [==============================] - 6s - loss: 0.0035 - mean_squared_error: 0.0035 - mean_absolute_error: 0.0419 - val_loss: 0.0036 - val_mean_squared_error: 0.0036 - val_mean_absolute_error: 0.0383\n",
      "Epoch 28/100\n",
      "3446/3446 [==============================] - 3s - loss: 0.0034 - mean_squared_error: 0.0034 - mean_absolute_error: 0.0413 - val_loss: 0.0035 - val_mean_squared_error: 0.0035 - val_mean_absolute_error: 0.0395\n",
      "Epoch 29/100\n",
      "3446/3446 [==============================] - 3s - loss: 0.0033 - mean_squared_error: 0.0033 - mean_absolute_error: 0.0407 - val_loss: 0.0035 - val_mean_squared_error: 0.0035 - val_mean_absolute_error: 0.0385\n",
      "Epoch 30/100\n",
      "3446/3446 [==============================] - 3s - loss: 0.0033 - mean_squared_error: 0.0033 - mean_absolute_error: 0.0410 - val_loss: 0.0045 - val_mean_squared_error: 0.0045 - val_mean_absolute_error: 0.0495\n",
      "Epoch 31/100\n",
      "3446/3446 [==============================] - 3s - loss: 0.0033 - mean_squared_error: 0.0033 - mean_absolute_error: 0.0408 - val_loss: 0.0036 - val_mean_squared_error: 0.0036 - val_mean_absolute_error: 0.0384\n",
      "Epoch 32/100\n",
      "3446/3446 [==============================] - 3s - loss: 0.0033 - mean_squared_error: 0.0033 - mean_absolute_error: 0.0409 - val_loss: 0.0036 - val_mean_squared_error: 0.0036 - val_mean_absolute_error: 0.0382\n",
      "Epoch 33/100\n",
      "3446/3446 [==============================] - 3s - loss: 0.0033 - mean_squared_error: 0.0033 - mean_absolute_error: 0.0409 - val_loss: 0.0036 - val_mean_squared_error: 0.0036 - val_mean_absolute_error: 0.0390\n",
      "Epoch 34/100\n",
      "3446/3446 [==============================] - 4s - loss: 0.0033 - mean_squared_error: 0.0033 - mean_absolute_error: 0.0409 - val_loss: 0.0037 - val_mean_squared_error: 0.0037 - val_mean_absolute_error: 0.0418\n",
      "Epoch 35/100\n",
      "3446/3446 [==============================] - 6s - loss: 0.0032 - mean_squared_error: 0.0032 - mean_absolute_error: 0.0399 - val_loss: 0.0042 - val_mean_squared_error: 0.0042 - val_mean_absolute_error: 0.0427\n",
      "Epoch 36/100\n",
      "3446/3446 [==============================] - 6s - loss: 0.0032 - mean_squared_error: 0.0032 - mean_absolute_error: 0.0402 - val_loss: 0.0036 - val_mean_squared_error: 0.0036 - val_mean_absolute_error: 0.0379\n",
      "Epoch 37/100\n",
      "3446/3446 [==============================] - 6s - loss: 0.0032 - mean_squared_error: 0.0032 - mean_absolute_error: 0.0402 - val_loss: 0.0036 - val_mean_squared_error: 0.0036 - val_mean_absolute_error: 0.0401\n",
      "Epoch 38/100\n",
      "3446/3446 [==============================] - 5s - loss: 0.0031 - mean_squared_error: 0.0031 - mean_absolute_error: 0.0397 - val_loss: 0.0035 - val_mean_squared_error: 0.0035 - val_mean_absolute_error: 0.0391\n",
      "Epoch 39/100\n",
      "3446/3446 [==============================] - 4s - loss: 0.0031 - mean_squared_error: 0.0031 - mean_absolute_error: 0.0400 - val_loss: 0.0050 - val_mean_squared_error: 0.0050 - val_mean_absolute_error: 0.0527\n",
      "Epoch 40/100\n",
      "3446/3446 [==============================] - 4s - loss: 0.0032 - mean_squared_error: 0.0032 - mean_absolute_error: 0.0403 - val_loss: 0.0038 - val_mean_squared_error: 0.0038 - val_mean_absolute_error: 0.0401\n",
      "Epoch 41/100\n",
      "3446/3446 [==============================] - 5s - loss: 0.0031 - mean_squared_error: 0.0031 - mean_absolute_error: 0.0396 - val_loss: 0.0037 - val_mean_squared_error: 0.0037 - val_mean_absolute_error: 0.0394\n",
      "Epoch 42/100\n",
      "3446/3446 [==============================] - 6s - loss: 0.0032 - mean_squared_error: 0.0032 - mean_absolute_error: 0.0408 - val_loss: 0.0034 - val_mean_squared_error: 0.0034 - val_mean_absolute_error: 0.0370\n",
      "Epoch 43/100\n",
      "3446/3446 [==============================] - 5s - loss: 0.0031 - mean_squared_error: 0.0031 - mean_absolute_error: 0.0399 - val_loss: 0.0035 - val_mean_squared_error: 0.0035 - val_mean_absolute_error: 0.0379\n",
      "Epoch 44/100\n",
      "3446/3446 [==============================] - 5s - loss: 0.0031 - mean_squared_error: 0.0031 - mean_absolute_error: 0.0396 - val_loss: 0.0037 - val_mean_squared_error: 0.0037 - val_mean_absolute_error: 0.0394\n",
      "Epoch 45/100\n",
      "3446/3446 [==============================] - 6s - loss: 0.0031 - mean_squared_error: 0.0031 - mean_absolute_error: 0.0397 - val_loss: 0.0036 - val_mean_squared_error: 0.0036 - val_mean_absolute_error: 0.0389\n",
      "Epoch 46/100\n",
      "3446/3446 [==============================] - 5s - loss: 0.0031 - mean_squared_error: 0.0031 - mean_absolute_error: 0.0395 - val_loss: 0.0040 - val_mean_squared_error: 0.0040 - val_mean_absolute_error: 0.0417\n",
      "Epoch 47/100\n",
      "3446/3446 [==============================] - 5s - loss: 0.0031 - mean_squared_error: 0.0031 - mean_absolute_error: 0.0398 - val_loss: 0.0036 - val_mean_squared_error: 0.0036 - val_mean_absolute_error: 0.0388\n",
      "Epoch 48/100\n",
      "3446/3446 [==============================] - 5s - loss: 0.0030 - mean_squared_error: 0.0030 - mean_absolute_error: 0.0390 - val_loss: 0.0037 - val_mean_squared_error: 0.0037 - val_mean_absolute_error: 0.0399\n",
      "Epoch 49/100\n",
      "3446/3446 [==============================] - 5s - loss: 0.0030 - mean_squared_error: 0.0030 - mean_absolute_error: 0.0393 - val_loss: 0.0036 - val_mean_squared_error: 0.0036 - val_mean_absolute_error: 0.0400\n",
      "Epoch 50/100\n",
      "3446/3446 [==============================] - 5s - loss: 0.0031 - mean_squared_error: 0.0031 - mean_absolute_error: 0.0396 - val_loss: 0.0041 - val_mean_squared_error: 0.0041 - val_mean_absolute_error: 0.0409\n",
      "Epoch 51/100\n",
      "3446/3446 [==============================] - 6s - loss: 0.0030 - mean_squared_error: 0.0030 - mean_absolute_error: 0.0396 - val_loss: 0.0037 - val_mean_squared_error: 0.0037 - val_mean_absolute_error: 0.0385\n",
      "Epoch 52/100\n",
      "3446/3446 [==============================] - 6s - loss: 0.0030 - mean_squared_error: 0.0030 - mean_absolute_error: 0.0393 - val_loss: 0.0037 - val_mean_squared_error: 0.0037 - val_mean_absolute_error: 0.0386\n",
      "Epoch 53/100\n",
      "3446/3446 [==============================] - 6s - loss: 0.0030 - mean_squared_error: 0.0030 - mean_absolute_error: 0.0390 - val_loss: 0.0036 - val_mean_squared_error: 0.0036 - val_mean_absolute_error: 0.0395\n",
      "Epoch 54/100\n",
      "3446/3446 [==============================] - 6s - loss: 0.0029 - mean_squared_error: 0.0029 - mean_absolute_error: 0.0388 - val_loss: 0.0035 - val_mean_squared_error: 0.0035 - val_mean_absolute_error: 0.0378\n",
      "Epoch 55/100\n",
      "3446/3446 [==============================] - 4s - loss: 0.0029 - mean_squared_error: 0.0029 - mean_absolute_error: 0.0387 - val_loss: 0.0036 - val_mean_squared_error: 0.0036 - val_mean_absolute_error: 0.0389\n",
      "Epoch 56/100\n",
      "3446/3446 [==============================] - 3s - loss: 0.0029 - mean_squared_error: 0.0029 - mean_absolute_error: 0.0384 - val_loss: 0.0038 - val_mean_squared_error: 0.0038 - val_mean_absolute_error: 0.0389\n",
      "Epoch 57/100\n",
      "3446/3446 [==============================] - 4s - loss: 0.0029 - mean_squared_error: 0.0029 - mean_absolute_error: 0.0388 - val_loss: 0.0038 - val_mean_squared_error: 0.0038 - val_mean_absolute_error: 0.0412\n",
      "Epoch 58/100\n",
      "3446/3446 [==============================] - 4s - loss: 0.0029 - mean_squared_error: 0.0029 - mean_absolute_error: 0.0387 - val_loss: 0.0035 - val_mean_squared_error: 0.0035 - val_mean_absolute_error: 0.0378\n",
      "Epoch 59/100\n",
      "3446/3446 [==============================] - 3s - loss: 0.0029 - mean_squared_error: 0.0029 - mean_absolute_error: 0.0382 - val_loss: 0.0035 - val_mean_squared_error: 0.0035 - val_mean_absolute_error: 0.0374\n",
      "Epoch 60/100\n",
      "3446/3446 [==============================] - 3s - loss: 0.0029 - mean_squared_error: 0.0029 - mean_absolute_error: 0.0382 - val_loss: 0.0035 - val_mean_squared_error: 0.0035 - val_mean_absolute_error: 0.0378\n",
      "Epoch 61/100\n",
      "3446/3446 [==============================] - 4s - loss: 0.0029 - mean_squared_error: 0.0029 - mean_absolute_error: 0.0384 - val_loss: 0.0039 - val_mean_squared_error: 0.0039 - val_mean_absolute_error: 0.0398\n",
      "Epoch 62/100\n",
      "3446/3446 [==============================] - 3s - loss: 0.0029 - mean_squared_error: 0.0029 - mean_absolute_error: 0.0384 - val_loss: 0.0035 - val_mean_squared_error: 0.0035 - val_mean_absolute_error: 0.0384\n",
      "Epoch 63/100\n",
      "3446/3446 [==============================] - 3s - loss: 0.0028 - mean_squared_error: 0.0028 - mean_absolute_error: 0.0382 - val_loss: 0.0036 - val_mean_squared_error: 0.0036 - val_mean_absolute_error: 0.0382\n",
      "Epoch 64/100\n",
      "3446/3446 [==============================] - 4s - loss: 0.0028 - mean_squared_error: 0.0028 - mean_absolute_error: 0.0382 - val_loss: 0.0039 - val_mean_squared_error: 0.0039 - val_mean_absolute_error: 0.0434\n",
      "Epoch 65/100\n",
      "3446/3446 [==============================] - 4s - loss: 0.0028 - mean_squared_error: 0.0028 - mean_absolute_error: 0.0377 - val_loss: 0.0033 - val_mean_squared_error: 0.0033 - val_mean_absolute_error: 0.0387\n",
      "Epoch 66/100\n",
      "3446/3446 [==============================] - 3s - loss: 0.0028 - mean_squared_error: 0.0028 - mean_absolute_error: 0.0379 - val_loss: 0.0037 - val_mean_squared_error: 0.0037 - val_mean_absolute_error: 0.0394\n",
      "Epoch 67/100\n",
      "3446/3446 [==============================] - 3s - loss: 0.0028 - mean_squared_error: 0.0028 - mean_absolute_error: 0.0381 - val_loss: 0.0036 - val_mean_squared_error: 0.0036 - val_mean_absolute_error: 0.0391\n",
      "Epoch 68/100\n",
      "3446/3446 [==============================] - 3s - loss: 0.0028 - mean_squared_error: 0.0028 - mean_absolute_error: 0.0380 - val_loss: 0.0036 - val_mean_squared_error: 0.0036 - val_mean_absolute_error: 0.0382\n",
      "Epoch 69/100\n",
      "3446/3446 [==============================] - 3s - loss: 0.0027 - mean_squared_error: 0.0027 - mean_absolute_error: 0.0376 - val_loss: 0.0035 - val_mean_squared_error: 0.0035 - val_mean_absolute_error: 0.0374\n",
      "Epoch 70/100\n",
      "3446/3446 [==============================] - 3s - loss: 0.0028 - mean_squared_error: 0.0028 - mean_absolute_error: 0.0376 - val_loss: 0.0037 - val_mean_squared_error: 0.0037 - val_mean_absolute_error: 0.0386\n",
      "Epoch 71/100\n",
      "3446/3446 [==============================] - 3s - loss: 0.0027 - mean_squared_error: 0.0027 - mean_absolute_error: 0.0373 - val_loss: 0.0036 - val_mean_squared_error: 0.0036 - val_mean_absolute_error: 0.0387\n",
      "Epoch 72/100\n",
      "3446/3446 [==============================] - 3s - loss: 0.0028 - mean_squared_error: 0.0028 - mean_absolute_error: 0.0377 - val_loss: 0.0037 - val_mean_squared_error: 0.0037 - val_mean_absolute_error: 0.0420\n",
      "Epoch 73/100\n",
      "3446/3446 [==============================] - 3s - loss: 0.0027 - mean_squared_error: 0.0027 - mean_absolute_error: 0.0373 - val_loss: 0.0036 - val_mean_squared_error: 0.0036 - val_mean_absolute_error: 0.0392\n",
      "Epoch 74/100\n"
     ]
    },
    {
     "name": "stdout",
     "output_type": "stream",
     "text": [
      "3446/3446 [==============================] - 3s - loss: 0.0027 - mean_squared_error: 0.0027 - mean_absolute_error: 0.0375 - val_loss: 0.0035 - val_mean_squared_error: 0.0035 - val_mean_absolute_error: 0.0384\n",
      "Epoch 75/100\n",
      "3446/3446 [==============================] - 3s - loss: 0.0027 - mean_squared_error: 0.0027 - mean_absolute_error: 0.0372 - val_loss: 0.0035 - val_mean_squared_error: 0.0035 - val_mean_absolute_error: 0.0374\n",
      "Epoch 76/100\n",
      "3446/3446 [==============================] - 3s - loss: 0.0027 - mean_squared_error: 0.0027 - mean_absolute_error: 0.0369 - val_loss: 0.0035 - val_mean_squared_error: 0.0035 - val_mean_absolute_error: 0.0392\n",
      "Epoch 77/100\n",
      "3446/3446 [==============================] - 3s - loss: 0.0027 - mean_squared_error: 0.0027 - mean_absolute_error: 0.0374 - val_loss: 0.0036 - val_mean_squared_error: 0.0036 - val_mean_absolute_error: 0.0389\n",
      "Epoch 78/100\n",
      "3446/3446 [==============================] - 3s - loss: 0.0027 - mean_squared_error: 0.0027 - mean_absolute_error: 0.0373 - val_loss: 0.0035 - val_mean_squared_error: 0.0035 - val_mean_absolute_error: 0.0378\n",
      "Epoch 79/100\n",
      "3446/3446 [==============================] - 4s - loss: 0.0026 - mean_squared_error: 0.0026 - mean_absolute_error: 0.0369 - val_loss: 0.0035 - val_mean_squared_error: 0.0035 - val_mean_absolute_error: 0.0380\n",
      "Epoch 80/100\n",
      "3446/3446 [==============================] - 4s - loss: 0.0027 - mean_squared_error: 0.0027 - mean_absolute_error: 0.0370 - val_loss: 0.0040 - val_mean_squared_error: 0.0040 - val_mean_absolute_error: 0.0442\n",
      "Epoch 81/100\n",
      "3446/3446 [==============================] - 3s - loss: 0.0027 - mean_squared_error: 0.0027 - mean_absolute_error: 0.0375 - val_loss: 0.0036 - val_mean_squared_error: 0.0036 - val_mean_absolute_error: 0.0388\n",
      "Epoch 82/100\n",
      "3446/3446 [==============================] - 3s - loss: 0.0027 - mean_squared_error: 0.0027 - mean_absolute_error: 0.0371 - val_loss: 0.0032 - val_mean_squared_error: 0.0032 - val_mean_absolute_error: 0.0368\n",
      "Epoch 83/100\n",
      "3446/3446 [==============================] - 3s - loss: 0.0027 - mean_squared_error: 0.0027 - mean_absolute_error: 0.0372 - val_loss: 0.0036 - val_mean_squared_error: 0.0036 - val_mean_absolute_error: 0.0396\n",
      "Epoch 84/100\n",
      "3446/3446 [==============================] - 3s - loss: 0.0027 - mean_squared_error: 0.0027 - mean_absolute_error: 0.0371 - val_loss: 0.0039 - val_mean_squared_error: 0.0039 - val_mean_absolute_error: 0.0400\n",
      "Epoch 85/100\n",
      "3446/3446 [==============================] - 3s - loss: 0.0026 - mean_squared_error: 0.0026 - mean_absolute_error: 0.0365 - val_loss: 0.0037 - val_mean_squared_error: 0.0037 - val_mean_absolute_error: 0.0396\n",
      "Epoch 86/100\n",
      "3446/3446 [==============================] - 4s - loss: 0.0026 - mean_squared_error: 0.0026 - mean_absolute_error: 0.0366 - val_loss: 0.0035 - val_mean_squared_error: 0.0035 - val_mean_absolute_error: 0.0375\n",
      "Epoch 87/100\n",
      "3446/3446 [==============================] - 4s - loss: 0.0026 - mean_squared_error: 0.0026 - mean_absolute_error: 0.0364 - val_loss: 0.0036 - val_mean_squared_error: 0.0036 - val_mean_absolute_error: 0.0384\n",
      "Epoch 88/100\n",
      "3446/3446 [==============================] - 4s - loss: 0.0026 - mean_squared_error: 0.0026 - mean_absolute_error: 0.0370 - val_loss: 0.0036 - val_mean_squared_error: 0.0036 - val_mean_absolute_error: 0.0413\n",
      "Epoch 89/100\n",
      "3446/3446 [==============================] - 3s - loss: 0.0026 - mean_squared_error: 0.0026 - mean_absolute_error: 0.0363 - val_loss: 0.0035 - val_mean_squared_error: 0.0035 - val_mean_absolute_error: 0.0380\n",
      "Epoch 90/100\n",
      "3446/3446 [==============================] - 3s - loss: 0.0026 - mean_squared_error: 0.0026 - mean_absolute_error: 0.0364 - val_loss: 0.0034 - val_mean_squared_error: 0.0034 - val_mean_absolute_error: 0.0387\n",
      "Epoch 91/100\n",
      "3446/3446 [==============================] - 4s - loss: 0.0026 - mean_squared_error: 0.0026 - mean_absolute_error: 0.0364 - val_loss: 0.0033 - val_mean_squared_error: 0.0033 - val_mean_absolute_error: 0.0370\n",
      "Epoch 92/100\n",
      "3446/3446 [==============================] - 4s - loss: 0.0025 - mean_squared_error: 0.0025 - mean_absolute_error: 0.0360 - val_loss: 0.0037 - val_mean_squared_error: 0.0037 - val_mean_absolute_error: 0.0392\n",
      "Epoch 93/100\n",
      "3446/3446 [==============================] - 4s - loss: 0.0026 - mean_squared_error: 0.0026 - mean_absolute_error: 0.0370 - val_loss: 0.0037 - val_mean_squared_error: 0.0037 - val_mean_absolute_error: 0.0380\n",
      "Epoch 94/100\n",
      "3446/3446 [==============================] - 4s - loss: 0.0026 - mean_squared_error: 0.0026 - mean_absolute_error: 0.0366 - val_loss: 0.0035 - val_mean_squared_error: 0.0035 - val_mean_absolute_error: 0.0374\n",
      "Epoch 95/100\n",
      "3446/3446 [==============================] - 3s - loss: 0.0025 - mean_squared_error: 0.0025 - mean_absolute_error: 0.0362 - val_loss: 0.0033 - val_mean_squared_error: 0.0033 - val_mean_absolute_error: 0.0369\n",
      "Epoch 96/100\n",
      "3446/3446 [==============================] - 3s - loss: 0.0025 - mean_squared_error: 0.0025 - mean_absolute_error: 0.0364 - val_loss: 0.0035 - val_mean_squared_error: 0.0035 - val_mean_absolute_error: 0.0384\n",
      "Epoch 97/100\n",
      "3446/3446 [==============================] - 3s - loss: 0.0026 - mean_squared_error: 0.0026 - mean_absolute_error: 0.0365 - val_loss: 0.0039 - val_mean_squared_error: 0.0039 - val_mean_absolute_error: 0.0408\n",
      "Epoch 98/100\n",
      "3446/3446 [==============================] - 3s - loss: 0.0025 - mean_squared_error: 0.0025 - mean_absolute_error: 0.0360 - val_loss: 0.0032 - val_mean_squared_error: 0.0032 - val_mean_absolute_error: 0.0364\n",
      "Epoch 99/100\n",
      "3446/3446 [==============================] - 3s - loss: 0.0025 - mean_squared_error: 0.0025 - mean_absolute_error: 0.0359 - val_loss: 0.0035 - val_mean_squared_error: 0.0035 - val_mean_absolute_error: 0.0397\n",
      "Epoch 100/100\n",
      "3446/3446 [==============================] - 4s - loss: 0.0026 - mean_squared_error: 0.0026 - mean_absolute_error: 0.0363 - val_loss: 0.0036 - val_mean_squared_error: 0.0036 - val_mean_absolute_error: 0.0383\n"
     ]
    },
    {
     "data": {
      "text/plain": [
       "<keras.callbacks.History at 0x7eff4ab92f98>"
      ]
     },
     "execution_count": 147,
     "metadata": {},
     "output_type": "execute_result"
    }
   ],
   "source": [
    "model.compile(loss='mse', optimizer='adam', metrics=['mse', 'mae'])\n",
    "\n",
    "checkpointer = ModelCheckpoint('./{}_conv_LSTM.hdf5'.format(dt.date.today()), save_best_only=True)\n",
    "model.fit(X_train, y_train, validation_data=(X_test, y_test), verbose=1, epochs=100, batch_size=10,\n",
    "          callbacks=[checkpointer])"
   ]
  },
  {
   "cell_type": "code",
   "execution_count": 37,
   "metadata": {},
   "outputs": [
    {
     "name": "stdout",
     "output_type": "stream",
     "text": [
      "5.41194686503\n"
     ]
    },
    {
     "data": {
      "text/plain": [
       "<matplotlib.axes._subplots.AxesSubplot at 0x7fee92f84080>"
      ]
     },
     "execution_count": 37,
     "metadata": {},
     "output_type": "execute_result"
    },
    {
     "data": {
      "image/png": "[encoded data removed]",
      "text/plain": [
       "<matplotlib.figure.Figure at 0x7fee8221ec50>"
      ]
     },
     "metadata": {},
     "output_type": "display_data"
    }
   ],
   "source": [
    "model = load_model('./models/2017-10-04_conv_LSTM.hdf5')\n",
    "\n",
    "pred = model.predict(new_features_LSTM)\n",
    "\n",
    "data['pred_model_conv'] = scaler.inverse_transform(pred.flatten()[504:].reshape(-1, 1))\n",
    "\n",
    "print(mean_absolute_error(y_pred=data['pred_model_conv'], y_true=data['DA_mcp']))\n",
    "\n",
    "data.loc[\"2017-2\":'2017-4', ['DA_mcp', 'pred_model_conv']].plot(figsize=(15, 8))"
   ]
  },
  {
   "cell_type": "code",
   "execution_count": 36,
   "metadata": {},
   "outputs": [
    {
     "data": {
      "text/html": [
       "<div>\n",
       "<style>\n",
       "    .dataframe thead tr:only-child th {\n",
       "        text-align: right;\n",
       "    }\n",
       "\n",
       "    .dataframe thead th {\n",
       "        text-align: left;\n",
       "    }\n",
       "\n",
       "    .dataframe tbody tr th {\n",
       "        vertical-align: top;\n",
       "    }\n",
       "</style>\n",
       "<table border=\"1\" class=\"dataframe\">\n",
       "  <thead>\n",
       "    <tr style=\"text-align: right;\">\n",
       "      <th></th>\n",
       "      <th>DA_mcp</th>\n",
       "      <th>pred_last_day</th>\n",
       "      <th>lag_168</th>\n",
       "      <th>lag_336</th>\n",
       "      <th>lag_504</th>\n",
       "      <th>lag_672</th>\n",
       "      <th>pred_last_week</th>\n",
       "      <th>pred_avg_weekday</th>\n",
       "      <th>pred_model_conv</th>\n",
       "    </tr>\n",
       "  </thead>\n",
       "  <tbody>\n",
       "    <tr>\n",
       "      <th>2007-08-17 00:00:00</th>\n",
       "      <td>24.55</td>\n",
       "      <td>21.80</td>\n",
       "      <td>23.92</td>\n",
       "      <td>25.09</td>\n",
       "      <td>22.91</td>\n",
       "      <td>25.69</td>\n",
       "      <td>23.92</td>\n",
       "      <td>24.4025</td>\n",
       "      <td>25.617456</td>\n",
       "    </tr>\n",
       "    <tr>\n",
       "      <th>2007-08-17 01:00:00</th>\n",
       "      <td>23.28</td>\n",
       "      <td>10.38</td>\n",
       "      <td>20.81</td>\n",
       "      <td>23.12</td>\n",
       "      <td>19.98</td>\n",
       "      <td>26.45</td>\n",
       "      <td>20.81</td>\n",
       "      <td>22.5900</td>\n",
       "      <td>21.973835</td>\n",
       "    </tr>\n",
       "    <tr>\n",
       "      <th>2007-08-17 02:00:00</th>\n",
       "      <td>21.25</td>\n",
       "      <td>10.34</td>\n",
       "      <td>17.29</td>\n",
       "      <td>21.08</td>\n",
       "      <td>15.89</td>\n",
       "      <td>24.33</td>\n",
       "      <td>17.29</td>\n",
       "      <td>19.6475</td>\n",
       "      <td>19.427799</td>\n",
       "    </tr>\n",
       "    <tr>\n",
       "      <th>2007-08-17 03:00:00</th>\n",
       "      <td>23.10</td>\n",
       "      <td>9.55</td>\n",
       "      <td>11.29</td>\n",
       "      <td>19.64</td>\n",
       "      <td>13.91</td>\n",
       "      <td>23.57</td>\n",
       "      <td>11.29</td>\n",
       "      <td>17.1025</td>\n",
       "      <td>16.016214</td>\n",
       "    </tr>\n",
       "    <tr>\n",
       "      <th>2007-08-17 04:00:00</th>\n",
       "      <td>23.20</td>\n",
       "      <td>10.31</td>\n",
       "      <td>17.09</td>\n",
       "      <td>19.90</td>\n",
       "      <td>9.35</td>\n",
       "      <td>18.96</td>\n",
       "      <td>17.09</td>\n",
       "      <td>16.3250</td>\n",
       "      <td>15.452075</td>\n",
       "    </tr>\n",
       "    <tr>\n",
       "      <th>2007-08-17 05:00:00</th>\n",
       "      <td>27.13</td>\n",
       "      <td>16.05</td>\n",
       "      <td>23.17</td>\n",
       "      <td>27.33</td>\n",
       "      <td>16.37</td>\n",
       "      <td>25.68</td>\n",
       "      <td>23.17</td>\n",
       "      <td>23.1375</td>\n",
       "      <td>18.625969</td>\n",
       "    </tr>\n",
       "    <tr>\n",
       "      <th>2007-08-17 06:00:00</th>\n",
       "      <td>29.94</td>\n",
       "      <td>22.57</td>\n",
       "      <td>24.01</td>\n",
       "      <td>27.04</td>\n",
       "      <td>21.37</td>\n",
       "      <td>28.52</td>\n",
       "      <td>24.01</td>\n",
       "      <td>25.2350</td>\n",
       "      <td>24.305254</td>\n",
       "    </tr>\n",
       "    <tr>\n",
       "      <th>2007-08-17 07:00:00</th>\n",
       "      <td>37.44</td>\n",
       "      <td>26.33</td>\n",
       "      <td>29.99</td>\n",
       "      <td>34.21</td>\n",
       "      <td>26.52</td>\n",
       "      <td>35.10</td>\n",
       "      <td>29.99</td>\n",
       "      <td>31.4550</td>\n",
       "      <td>31.310080</td>\n",
       "    </tr>\n",
       "    <tr>\n",
       "      <th>2007-08-17 08:00:00</th>\n",
       "      <td>41.72</td>\n",
       "      <td>30.99</td>\n",
       "      <td>34.95</td>\n",
       "      <td>42.06</td>\n",
       "      <td>28.92</td>\n",
       "      <td>48.93</td>\n",
       "      <td>34.95</td>\n",
       "      <td>38.7150</td>\n",
       "      <td>34.136948</td>\n",
       "    </tr>\n",
       "    <tr>\n",
       "      <th>2007-08-17 09:00:00</th>\n",
       "      <td>42.07</td>\n",
       "      <td>35.31</td>\n",
       "      <td>40.04</td>\n",
       "      <td>45.18</td>\n",
       "      <td>27.87</td>\n",
       "      <td>54.09</td>\n",
       "      <td>40.04</td>\n",
       "      <td>41.7950</td>\n",
       "      <td>37.097416</td>\n",
       "    </tr>\n",
       "    <tr>\n",
       "      <th>2007-08-17 10:00:00</th>\n",
       "      <td>50.03</td>\n",
       "      <td>36.93</td>\n",
       "      <td>43.92</td>\n",
       "      <td>49.26</td>\n",
       "      <td>29.91</td>\n",
       "      <td>95.05</td>\n",
       "      <td>43.92</td>\n",
       "      <td>54.5350</td>\n",
       "      <td>39.590187</td>\n",
       "    </tr>\n",
       "    <tr>\n",
       "      <th>2007-08-17 11:00:00</th>\n",
       "      <td>58.30</td>\n",
       "      <td>43.78</td>\n",
       "      <td>51.46</td>\n",
       "      <td>52.64</td>\n",
       "      <td>32.64</td>\n",
       "      <td>98.43</td>\n",
       "      <td>51.46</td>\n",
       "      <td>58.7925</td>\n",
       "      <td>43.313675</td>\n",
       "    </tr>\n",
       "    <tr>\n",
       "      <th>2007-08-17 12:00:00</th>\n",
       "      <td>42.33</td>\n",
       "      <td>37.71</td>\n",
       "      <td>40.04</td>\n",
       "      <td>46.57</td>\n",
       "      <td>28.01</td>\n",
       "      <td>80.05</td>\n",
       "      <td>40.04</td>\n",
       "      <td>48.6675</td>\n",
       "      <td>38.661407</td>\n",
       "    </tr>\n",
       "    <tr>\n",
       "      <th>2007-08-17 13:00:00</th>\n",
       "      <td>41.71</td>\n",
       "      <td>35.83</td>\n",
       "      <td>40.09</td>\n",
       "      <td>39.89</td>\n",
       "      <td>27.17</td>\n",
       "      <td>52.09</td>\n",
       "      <td>40.09</td>\n",
       "      <td>39.8100</td>\n",
       "      <td>36.162766</td>\n",
       "    </tr>\n",
       "    <tr>\n",
       "      <th>2007-08-17 14:00:00</th>\n",
       "      <td>35.92</td>\n",
       "      <td>35.85</td>\n",
       "      <td>33.78</td>\n",
       "      <td>36.98</td>\n",
       "      <td>26.27</td>\n",
       "      <td>49.91</td>\n",
       "      <td>33.78</td>\n",
       "      <td>36.7350</td>\n",
       "      <td>35.057678</td>\n",
       "    </tr>\n",
       "    <tr>\n",
       "      <th>2007-08-17 15:00:00</th>\n",
       "      <td>33.84</td>\n",
       "      <td>34.03</td>\n",
       "      <td>30.01</td>\n",
       "      <td>33.77</td>\n",
       "      <td>26.13</td>\n",
       "      <td>42.49</td>\n",
       "      <td>30.01</td>\n",
       "      <td>33.1000</td>\n",
       "      <td>31.344793</td>\n",
       "    </tr>\n",
       "    <tr>\n",
       "      <th>2007-08-17 16:00:00</th>\n",
       "      <td>31.91</td>\n",
       "      <td>32.18</td>\n",
       "      <td>28.04</td>\n",
       "      <td>31.94</td>\n",
       "      <td>27.00</td>\n",
       "      <td>41.59</td>\n",
       "      <td>28.04</td>\n",
       "      <td>32.1425</td>\n",
       "      <td>31.938009</td>\n",
       "    </tr>\n",
       "    <tr>\n",
       "      <th>2007-08-17 17:00:00</th>\n",
       "      <td>31.65</td>\n",
       "      <td>32.94</td>\n",
       "      <td>28.04</td>\n",
       "      <td>31.10</td>\n",
       "      <td>27.98</td>\n",
       "      <td>39.98</td>\n",
       "      <td>28.04</td>\n",
       "      <td>31.7750</td>\n",
       "      <td>31.342154</td>\n",
       "    </tr>\n",
       "    <tr>\n",
       "      <th>2007-08-17 18:00:00</th>\n",
       "      <td>30.98</td>\n",
       "      <td>35.04</td>\n",
       "      <td>30.08</td>\n",
       "      <td>30.34</td>\n",
       "      <td>30.02</td>\n",
       "      <td>37.16</td>\n",
       "      <td>30.08</td>\n",
       "      <td>31.9000</td>\n",
       "      <td>29.386541</td>\n",
       "    </tr>\n",
       "    <tr>\n",
       "      <th>2007-08-17 19:00:00</th>\n",
       "      <td>29.86</td>\n",
       "      <td>32.90</td>\n",
       "      <td>29.04</td>\n",
       "      <td>29.91</td>\n",
       "      <td>30.04</td>\n",
       "      <td>31.28</td>\n",
       "      <td>29.04</td>\n",
       "      <td>30.0675</td>\n",
       "      <td>28.442808</td>\n",
       "    </tr>\n",
       "    <tr>\n",
       "      <th>2007-08-17 20:00:00</th>\n",
       "      <td>34.94</td>\n",
       "      <td>37.49</td>\n",
       "      <td>31.42</td>\n",
       "      <td>28.82</td>\n",
       "      <td>30.06</td>\n",
       "      <td>32.98</td>\n",
       "      <td>31.42</td>\n",
       "      <td>30.8200</td>\n",
       "      <td>29.482525</td>\n",
       "    </tr>\n",
       "    <tr>\n",
       "      <th>2007-08-17 21:00:00</th>\n",
       "      <td>34.22</td>\n",
       "      <td>35.05</td>\n",
       "      <td>29.40</td>\n",
       "      <td>28.99</td>\n",
       "      <td>29.21</td>\n",
       "      <td>30.05</td>\n",
       "      <td>29.40</td>\n",
       "      <td>29.4125</td>\n",
       "      <td>30.433340</td>\n",
       "    </tr>\n",
       "    <tr>\n",
       "      <th>2007-08-17 22:00:00</th>\n",
       "      <td>29.57</td>\n",
       "      <td>29.57</td>\n",
       "      <td>26.32</td>\n",
       "      <td>31.09</td>\n",
       "      <td>30.57</td>\n",
       "      <td>31.34</td>\n",
       "      <td>26.32</td>\n",
       "      <td>29.8300</td>\n",
       "      <td>31.368948</td>\n",
       "    </tr>\n",
       "    <tr>\n",
       "      <th>2007-08-17 23:00:00</th>\n",
       "      <td>26.03</td>\n",
       "      <td>23.07</td>\n",
       "      <td>24.05</td>\n",
       "      <td>28.98</td>\n",
       "      <td>23.35</td>\n",
       "      <td>25.51</td>\n",
       "      <td>24.05</td>\n",
       "      <td>25.4725</td>\n",
       "      <td>26.232536</td>\n",
       "    </tr>\n",
       "    <tr>\n",
       "      <th>2007-08-18 00:00:00</th>\n",
       "      <td>24.86</td>\n",
       "      <td>24.55</td>\n",
       "      <td>25.91</td>\n",
       "      <td>24.91</td>\n",
       "      <td>25.58</td>\n",
       "      <td>25.55</td>\n",
       "      <td>25.91</td>\n",
       "      <td>25.4875</td>\n",
       "      <td>26.707878</td>\n",
       "    </tr>\n",
       "    <tr>\n",
       "      <th>2007-08-18 01:00:00</th>\n",
       "      <td>19.06</td>\n",
       "      <td>23.28</td>\n",
       "      <td>23.52</td>\n",
       "      <td>22.68</td>\n",
       "      <td>23.98</td>\n",
       "      <td>23.59</td>\n",
       "      <td>23.52</td>\n",
       "      <td>23.4425</td>\n",
       "      <td>23.306932</td>\n",
       "    </tr>\n",
       "    <tr>\n",
       "      <th>2007-08-18 02:00:00</th>\n",
       "      <td>19.88</td>\n",
       "      <td>21.25</td>\n",
       "      <td>18.15</td>\n",
       "      <td>21.57</td>\n",
       "      <td>24.07</td>\n",
       "      <td>20.08</td>\n",
       "      <td>18.15</td>\n",
       "      <td>20.9675</td>\n",
       "      <td>20.649193</td>\n",
       "    </tr>\n",
       "    <tr>\n",
       "      <th>2007-08-18 03:00:00</th>\n",
       "      <td>20.80</td>\n",
       "      <td>23.10</td>\n",
       "      <td>12.08</td>\n",
       "      <td>21.03</td>\n",
       "      <td>23.51</td>\n",
       "      <td>18.04</td>\n",
       "      <td>12.08</td>\n",
       "      <td>18.6650</td>\n",
       "      <td>17.575609</td>\n",
       "    </tr>\n",
       "    <tr>\n",
       "      <th>2007-08-18 04:00:00</th>\n",
       "      <td>20.11</td>\n",
       "      <td>23.20</td>\n",
       "      <td>10.44</td>\n",
       "      <td>20.24</td>\n",
       "      <td>23.10</td>\n",
       "      <td>17.07</td>\n",
       "      <td>10.44</td>\n",
       "      <td>17.7125</td>\n",
       "      <td>16.829802</td>\n",
       "    </tr>\n",
       "    <tr>\n",
       "      <th>2007-08-18 05:00:00</th>\n",
       "      <td>19.91</td>\n",
       "      <td>27.13</td>\n",
       "      <td>14.00</td>\n",
       "      <td>22.29</td>\n",
       "      <td>23.03</td>\n",
       "      <td>17.92</td>\n",
       "      <td>14.00</td>\n",
       "      <td>19.3100</td>\n",
       "      <td>17.794077</td>\n",
       "    </tr>\n",
       "    <tr>\n",
       "      <th>...</th>\n",
       "      <td>...</td>\n",
       "      <td>...</td>\n",
       "      <td>...</td>\n",
       "      <td>...</td>\n",
       "      <td>...</td>\n",
       "      <td>...</td>\n",
       "      <td>...</td>\n",
       "      <td>...</td>\n",
       "      <td>...</td>\n",
       "    </tr>\n",
       "    <tr>\n",
       "      <th>2017-08-30 18:00:00</th>\n",
       "      <td>42.39</td>\n",
       "      <td>49.01</td>\n",
       "      <td>45.94</td>\n",
       "      <td>41.93</td>\n",
       "      <td>35.96</td>\n",
       "      <td>39.23</td>\n",
       "      <td>45.94</td>\n",
       "      <td>40.7650</td>\n",
       "      <td>41.808033</td>\n",
       "    </tr>\n",
       "    <tr>\n",
       "      <th>2017-08-30 19:00:00</th>\n",
       "      <td>42.40</td>\n",
       "      <td>52.47</td>\n",
       "      <td>48.05</td>\n",
       "      <td>43.15</td>\n",
       "      <td>40.10</td>\n",
       "      <td>40.94</td>\n",
       "      <td>48.05</td>\n",
       "      <td>43.0600</td>\n",
       "      <td>45.274567</td>\n",
       "    </tr>\n",
       "    <tr>\n",
       "      <th>2017-08-30 20:00:00</th>\n",
       "      <td>41.39</td>\n",
       "      <td>49.98</td>\n",
       "      <td>44.90</td>\n",
       "      <td>41.95</td>\n",
       "      <td>38.33</td>\n",
       "      <td>39.27</td>\n",
       "      <td>44.90</td>\n",
       "      <td>41.1125</td>\n",
       "      <td>42.401554</td>\n",
       "    </tr>\n",
       "    <tr>\n",
       "      <th>2017-08-30 21:00:00</th>\n",
       "      <td>37.04</td>\n",
       "      <td>45.87</td>\n",
       "      <td>41.92</td>\n",
       "      <td>40.10</td>\n",
       "      <td>39.42</td>\n",
       "      <td>38.15</td>\n",
       "      <td>41.92</td>\n",
       "      <td>39.8975</td>\n",
       "      <td>39.305115</td>\n",
       "    </tr>\n",
       "    <tr>\n",
       "      <th>2017-08-30 22:00:00</th>\n",
       "      <td>32.48</td>\n",
       "      <td>40.04</td>\n",
       "      <td>35.96</td>\n",
       "      <td>36.02</td>\n",
       "      <td>37.35</td>\n",
       "      <td>37.53</td>\n",
       "      <td>35.96</td>\n",
       "      <td>36.7150</td>\n",
       "      <td>36.867462</td>\n",
       "    </tr>\n",
       "    <tr>\n",
       "      <th>2017-08-30 23:00:00</th>\n",
       "      <td>30.89</td>\n",
       "      <td>32.82</td>\n",
       "      <td>31.29</td>\n",
       "      <td>32.00</td>\n",
       "      <td>34.51</td>\n",
       "      <td>34.46</td>\n",
       "      <td>31.29</td>\n",
       "      <td>33.0650</td>\n",
       "      <td>32.651173</td>\n",
       "    </tr>\n",
       "    <tr>\n",
       "      <th>2017-08-31 00:00:00</th>\n",
       "      <td>31.00</td>\n",
       "      <td>32.98</td>\n",
       "      <td>29.99</td>\n",
       "      <td>29.82</td>\n",
       "      <td>29.91</td>\n",
       "      <td>28.10</td>\n",
       "      <td>29.99</td>\n",
       "      <td>29.4550</td>\n",
       "      <td>27.638618</td>\n",
       "    </tr>\n",
       "    <tr>\n",
       "      <th>2017-08-31 01:00:00</th>\n",
       "      <td>29.97</td>\n",
       "      <td>30.26</td>\n",
       "      <td>29.48</td>\n",
       "      <td>28.44</td>\n",
       "      <td>28.24</td>\n",
       "      <td>26.47</td>\n",
       "      <td>29.48</td>\n",
       "      <td>28.1575</td>\n",
       "      <td>25.503658</td>\n",
       "    </tr>\n",
       "    <tr>\n",
       "      <th>2017-08-31 02:00:00</th>\n",
       "      <td>29.75</td>\n",
       "      <td>29.83</td>\n",
       "      <td>28.10</td>\n",
       "      <td>26.96</td>\n",
       "      <td>27.79</td>\n",
       "      <td>24.76</td>\n",
       "      <td>28.10</td>\n",
       "      <td>26.9025</td>\n",
       "      <td>24.906990</td>\n",
       "    </tr>\n",
       "    <tr>\n",
       "      <th>2017-08-31 03:00:00</th>\n",
       "      <td>28.83</td>\n",
       "      <td>29.56</td>\n",
       "      <td>27.73</td>\n",
       "      <td>26.83</td>\n",
       "      <td>26.60</td>\n",
       "      <td>23.36</td>\n",
       "      <td>27.73</td>\n",
       "      <td>26.1300</td>\n",
       "      <td>24.273729</td>\n",
       "    </tr>\n",
       "    <tr>\n",
       "      <th>2017-08-31 04:00:00</th>\n",
       "      <td>28.89</td>\n",
       "      <td>29.60</td>\n",
       "      <td>28.00</td>\n",
       "      <td>26.96</td>\n",
       "      <td>26.02</td>\n",
       "      <td>23.39</td>\n",
       "      <td>28.00</td>\n",
       "      <td>26.0925</td>\n",
       "      <td>24.079920</td>\n",
       "    </tr>\n",
       "    <tr>\n",
       "      <th>2017-08-31 05:00:00</th>\n",
       "      <td>30.06</td>\n",
       "      <td>30.82</td>\n",
       "      <td>30.27</td>\n",
       "      <td>28.57</td>\n",
       "      <td>28.44</td>\n",
       "      <td>25.08</td>\n",
       "      <td>30.27</td>\n",
       "      <td>28.0900</td>\n",
       "      <td>26.669287</td>\n",
       "    </tr>\n",
       "    <tr>\n",
       "      <th>2017-08-31 06:00:00</th>\n",
       "      <td>34.15</td>\n",
       "      <td>36.51</td>\n",
       "      <td>36.45</td>\n",
       "      <td>33.94</td>\n",
       "      <td>33.81</td>\n",
       "      <td>28.58</td>\n",
       "      <td>36.45</td>\n",
       "      <td>33.1950</td>\n",
       "      <td>34.666325</td>\n",
       "    </tr>\n",
       "    <tr>\n",
       "      <th>2017-08-31 07:00:00</th>\n",
       "      <td>39.92</td>\n",
       "      <td>42.00</td>\n",
       "      <td>39.42</td>\n",
       "      <td>36.90</td>\n",
       "      <td>36.81</td>\n",
       "      <td>34.94</td>\n",
       "      <td>39.42</td>\n",
       "      <td>37.0175</td>\n",
       "      <td>40.816063</td>\n",
       "    </tr>\n",
       "    <tr>\n",
       "      <th>2017-08-31 08:00:00</th>\n",
       "      <td>43.28</td>\n",
       "      <td>44.43</td>\n",
       "      <td>42.14</td>\n",
       "      <td>40.14</td>\n",
       "      <td>40.88</td>\n",
       "      <td>35.98</td>\n",
       "      <td>42.14</td>\n",
       "      <td>39.7850</td>\n",
       "      <td>42.343491</td>\n",
       "    </tr>\n",
       "    <tr>\n",
       "      <th>2017-08-31 09:00:00</th>\n",
       "      <td>44.92</td>\n",
       "      <td>43.97</td>\n",
       "      <td>42.09</td>\n",
       "      <td>39.24</td>\n",
       "      <td>41.95</td>\n",
       "      <td>35.98</td>\n",
       "      <td>42.09</td>\n",
       "      <td>39.8150</td>\n",
       "      <td>39.284489</td>\n",
       "    </tr>\n",
       "    <tr>\n",
       "      <th>2017-08-31 10:00:00</th>\n",
       "      <td>44.08</td>\n",
       "      <td>43.39</td>\n",
       "      <td>40.70</td>\n",
       "      <td>36.47</td>\n",
       "      <td>41.95</td>\n",
       "      <td>35.89</td>\n",
       "      <td>40.70</td>\n",
       "      <td>38.7525</td>\n",
       "      <td>37.066547</td>\n",
       "    </tr>\n",
       "    <tr>\n",
       "      <th>2017-08-31 11:00:00</th>\n",
       "      <td>44.80</td>\n",
       "      <td>39.91</td>\n",
       "      <td>39.94</td>\n",
       "      <td>36.02</td>\n",
       "      <td>41.93</td>\n",
       "      <td>34.72</td>\n",
       "      <td>39.94</td>\n",
       "      <td>38.1525</td>\n",
       "      <td>36.191166</td>\n",
       "    </tr>\n",
       "    <tr>\n",
       "      <th>2017-08-31 12:00:00</th>\n",
       "      <td>42.98</td>\n",
       "      <td>33.00</td>\n",
       "      <td>32.38</td>\n",
       "      <td>33.39</td>\n",
       "      <td>41.63</td>\n",
       "      <td>30.57</td>\n",
       "      <td>32.38</td>\n",
       "      <td>34.4925</td>\n",
       "      <td>32.507969</td>\n",
       "    </tr>\n",
       "    <tr>\n",
       "      <th>2017-08-31 13:00:00</th>\n",
       "      <td>41.97</td>\n",
       "      <td>32.75</td>\n",
       "      <td>29.63</td>\n",
       "      <td>31.64</td>\n",
       "      <td>40.95</td>\n",
       "      <td>27.13</td>\n",
       "      <td>29.63</td>\n",
       "      <td>32.3375</td>\n",
       "      <td>31.067150</td>\n",
       "    </tr>\n",
       "    <tr>\n",
       "      <th>2017-08-31 14:00:00</th>\n",
       "      <td>40.06</td>\n",
       "      <td>32.83</td>\n",
       "      <td>29.69</td>\n",
       "      <td>30.00</td>\n",
       "      <td>39.20</td>\n",
       "      <td>22.03</td>\n",
       "      <td>29.69</td>\n",
       "      <td>30.2300</td>\n",
       "      <td>30.725462</td>\n",
       "    </tr>\n",
       "    <tr>\n",
       "      <th>2017-08-31 15:00:00</th>\n",
       "      <td>41.97</td>\n",
       "      <td>32.14</td>\n",
       "      <td>29.80</td>\n",
       "      <td>30.19</td>\n",
       "      <td>37.88</td>\n",
       "      <td>20.28</td>\n",
       "      <td>29.80</td>\n",
       "      <td>29.5375</td>\n",
       "      <td>29.990191</td>\n",
       "    </tr>\n",
       "    <tr>\n",
       "      <th>2017-08-31 16:00:00</th>\n",
       "      <td>41.94</td>\n",
       "      <td>37.40</td>\n",
       "      <td>31.76</td>\n",
       "      <td>31.68</td>\n",
       "      <td>36.24</td>\n",
       "      <td>18.09</td>\n",
       "      <td>31.76</td>\n",
       "      <td>29.4425</td>\n",
       "      <td>31.147942</td>\n",
       "    </tr>\n",
       "    <tr>\n",
       "      <th>2017-08-31 17:00:00</th>\n",
       "      <td>42.05</td>\n",
       "      <td>40.56</td>\n",
       "      <td>39.70</td>\n",
       "      <td>35.32</td>\n",
       "      <td>37.05</td>\n",
       "      <td>23.99</td>\n",
       "      <td>39.70</td>\n",
       "      <td>34.0150</td>\n",
       "      <td>35.204441</td>\n",
       "    </tr>\n",
       "    <tr>\n",
       "      <th>2017-08-31 18:00:00</th>\n",
       "      <td>43.60</td>\n",
       "      <td>42.39</td>\n",
       "      <td>42.75</td>\n",
       "      <td>37.42</td>\n",
       "      <td>38.00</td>\n",
       "      <td>26.82</td>\n",
       "      <td>42.75</td>\n",
       "      <td>36.2475</td>\n",
       "      <td>39.856163</td>\n",
       "    </tr>\n",
       "    <tr>\n",
       "      <th>2017-08-31 19:00:00</th>\n",
       "      <td>43.80</td>\n",
       "      <td>42.40</td>\n",
       "      <td>44.89</td>\n",
       "      <td>38.97</td>\n",
       "      <td>39.61</td>\n",
       "      <td>29.76</td>\n",
       "      <td>44.89</td>\n",
       "      <td>38.3075</td>\n",
       "      <td>42.561207</td>\n",
       "    </tr>\n",
       "    <tr>\n",
       "      <th>2017-08-31 20:00:00</th>\n",
       "      <td>44.09</td>\n",
       "      <td>41.39</td>\n",
       "      <td>44.55</td>\n",
       "      <td>38.35</td>\n",
       "      <td>35.99</td>\n",
       "      <td>30.76</td>\n",
       "      <td>44.55</td>\n",
       "      <td>37.4125</td>\n",
       "      <td>40.050240</td>\n",
       "    </tr>\n",
       "    <tr>\n",
       "      <th>2017-08-31 21:00:00</th>\n",
       "      <td>41.92</td>\n",
       "      <td>37.04</td>\n",
       "      <td>42.91</td>\n",
       "      <td>37.62</td>\n",
       "      <td>35.56</td>\n",
       "      <td>31.85</td>\n",
       "      <td>42.91</td>\n",
       "      <td>36.9850</td>\n",
       "      <td>36.682388</td>\n",
       "    </tr>\n",
       "    <tr>\n",
       "      <th>2017-08-31 22:00:00</th>\n",
       "      <td>35.59</td>\n",
       "      <td>32.48</td>\n",
       "      <td>39.22</td>\n",
       "      <td>36.87</td>\n",
       "      <td>34.78</td>\n",
       "      <td>29.69</td>\n",
       "      <td>39.22</td>\n",
       "      <td>35.1400</td>\n",
       "      <td>34.433167</td>\n",
       "    </tr>\n",
       "    <tr>\n",
       "      <th>2017-08-31 23:00:00</th>\n",
       "      <td>33.41</td>\n",
       "      <td>30.89</td>\n",
       "      <td>33.96</td>\n",
       "      <td>31.70</td>\n",
       "      <td>30.97</td>\n",
       "      <td>25.52</td>\n",
       "      <td>33.96</td>\n",
       "      <td>30.5375</td>\n",
       "      <td>29.829092</td>\n",
       "    </tr>\n",
       "  </tbody>\n",
       "</table>\n",
       "<p>88032 rows × 9 columns</p>\n",
       "</div>"
      ],
      "text/plain": [
       "                     DA_mcp  pred_last_day  lag_168  lag_336  lag_504  \\\n",
       "2007-08-17 00:00:00   24.55          21.80    23.92    25.09    22.91   \n",
       "2007-08-17 01:00:00   23.28          10.38    20.81    23.12    19.98   \n",
       "2007-08-17 02:00:00   21.25          10.34    17.29    21.08    15.89   \n",
       "2007-08-17 03:00:00   23.10           9.55    11.29    19.64    13.91   \n",
       "2007-08-17 04:00:00   23.20          10.31    17.09    19.90     9.35   \n",
       "2007-08-17 05:00:00   27.13          16.05    23.17    27.33    16.37   \n",
       "2007-08-17 06:00:00   29.94          22.57    24.01    27.04    21.37   \n",
       "2007-08-17 07:00:00   37.44          26.33    29.99    34.21    26.52   \n",
       "2007-08-17 08:00:00   41.72          30.99    34.95    42.06    28.92   \n",
       "2007-08-17 09:00:00   42.07          35.31    40.04    45.18    27.87   \n",
       "2007-08-17 10:00:00   50.03          36.93    43.92    49.26    29.91   \n",
       "2007-08-17 11:00:00   58.30          43.78    51.46    52.64    32.64   \n",
       "2007-08-17 12:00:00   42.33          37.71    40.04    46.57    28.01   \n",
       "2007-08-17 13:00:00   41.71          35.83    40.09    39.89    27.17   \n",
       "2007-08-17 14:00:00   35.92          35.85    33.78    36.98    26.27   \n",
       "2007-08-17 15:00:00   33.84          34.03    30.01    33.77    26.13   \n",
       "2007-08-17 16:00:00   31.91          32.18    28.04    31.94    27.00   \n",
       "2007-08-17 17:00:00   31.65          32.94    28.04    31.10    27.98   \n",
       "2007-08-17 18:00:00   30.98          35.04    30.08    30.34    30.02   \n",
       "2007-08-17 19:00:00   29.86          32.90    29.04    29.91    30.04   \n",
       "2007-08-17 20:00:00   34.94          37.49    31.42    28.82    30.06   \n",
       "2007-08-17 21:00:00   34.22          35.05    29.40    28.99    29.21   \n",
       "2007-08-17 22:00:00   29.57          29.57    26.32    31.09    30.57   \n",
       "2007-08-17 23:00:00   26.03          23.07    24.05    28.98    23.35   \n",
       "2007-08-18 00:00:00   24.86          24.55    25.91    24.91    25.58   \n",
       "2007-08-18 01:00:00   19.06          23.28    23.52    22.68    23.98   \n",
       "2007-08-18 02:00:00   19.88          21.25    18.15    21.57    24.07   \n",
       "2007-08-18 03:00:00   20.80          23.10    12.08    21.03    23.51   \n",
       "2007-08-18 04:00:00   20.11          23.20    10.44    20.24    23.10   \n",
       "2007-08-18 05:00:00   19.91          27.13    14.00    22.29    23.03   \n",
       "...                     ...            ...      ...      ...      ...   \n",
       "2017-08-30 18:00:00   42.39          49.01    45.94    41.93    35.96   \n",
       "2017-08-30 19:00:00   42.40          52.47    48.05    43.15    40.10   \n",
       "2017-08-30 20:00:00   41.39          49.98    44.90    41.95    38.33   \n",
       "2017-08-30 21:00:00   37.04          45.87    41.92    40.10    39.42   \n",
       "2017-08-30 22:00:00   32.48          40.04    35.96    36.02    37.35   \n",
       "2017-08-30 23:00:00   30.89          32.82    31.29    32.00    34.51   \n",
       "2017-08-31 00:00:00   31.00          32.98    29.99    29.82    29.91   \n",
       "2017-08-31 01:00:00   29.97          30.26    29.48    28.44    28.24   \n",
       "2017-08-31 02:00:00   29.75          29.83    28.10    26.96    27.79   \n",
       "2017-08-31 03:00:00   28.83          29.56    27.73    26.83    26.60   \n",
       "2017-08-31 04:00:00   28.89          29.60    28.00    26.96    26.02   \n",
       "2017-08-31 05:00:00   30.06          30.82    30.27    28.57    28.44   \n",
       "2017-08-31 06:00:00   34.15          36.51    36.45    33.94    33.81   \n",
       "2017-08-31 07:00:00   39.92          42.00    39.42    36.90    36.81   \n",
       "2017-08-31 08:00:00   43.28          44.43    42.14    40.14    40.88   \n",
       "2017-08-31 09:00:00   44.92          43.97    42.09    39.24    41.95   \n",
       "2017-08-31 10:00:00   44.08          43.39    40.70    36.47    41.95   \n",
       "2017-08-31 11:00:00   44.80          39.91    39.94    36.02    41.93   \n",
       "2017-08-31 12:00:00   42.98          33.00    32.38    33.39    41.63   \n",
       "2017-08-31 13:00:00   41.97          32.75    29.63    31.64    40.95   \n",
       "2017-08-31 14:00:00   40.06          32.83    29.69    30.00    39.20   \n",
       "2017-08-31 15:00:00   41.97          32.14    29.80    30.19    37.88   \n",
       "2017-08-31 16:00:00   41.94          37.40    31.76    31.68    36.24   \n",
       "2017-08-31 17:00:00   42.05          40.56    39.70    35.32    37.05   \n",
       "2017-08-31 18:00:00   43.60          42.39    42.75    37.42    38.00   \n",
       "2017-08-31 19:00:00   43.80          42.40    44.89    38.97    39.61   \n",
       "2017-08-31 20:00:00   44.09          41.39    44.55    38.35    35.99   \n",
       "2017-08-31 21:00:00   41.92          37.04    42.91    37.62    35.56   \n",
       "2017-08-31 22:00:00   35.59          32.48    39.22    36.87    34.78   \n",
       "2017-08-31 23:00:00   33.41          30.89    33.96    31.70    30.97   \n",
       "\n",
       "                     lag_672  pred_last_week  pred_avg_weekday  \\\n",
       "2007-08-17 00:00:00    25.69           23.92           24.4025   \n",
       "2007-08-17 01:00:00    26.45           20.81           22.5900   \n",
       "2007-08-17 02:00:00    24.33           17.29           19.6475   \n",
       "2007-08-17 03:00:00    23.57           11.29           17.1025   \n",
       "2007-08-17 04:00:00    18.96           17.09           16.3250   \n",
       "2007-08-17 05:00:00    25.68           23.17           23.1375   \n",
       "2007-08-17 06:00:00    28.52           24.01           25.2350   \n",
       "2007-08-17 07:00:00    35.10           29.99           31.4550   \n",
       "2007-08-17 08:00:00    48.93           34.95           38.7150   \n",
       "2007-08-17 09:00:00    54.09           40.04           41.7950   \n",
       "2007-08-17 10:00:00    95.05           43.92           54.5350   \n",
       "2007-08-17 11:00:00    98.43           51.46           58.7925   \n",
       "2007-08-17 12:00:00    80.05           40.04           48.6675   \n",
       "2007-08-17 13:00:00    52.09           40.09           39.8100   \n",
       "2007-08-17 14:00:00    49.91           33.78           36.7350   \n",
       "2007-08-17 15:00:00    42.49           30.01           33.1000   \n",
       "2007-08-17 16:00:00    41.59           28.04           32.1425   \n",
       "2007-08-17 17:00:00    39.98           28.04           31.7750   \n",
       "2007-08-17 18:00:00    37.16           30.08           31.9000   \n",
       "2007-08-17 19:00:00    31.28           29.04           30.0675   \n",
       "2007-08-17 20:00:00    32.98           31.42           30.8200   \n",
       "2007-08-17 21:00:00    30.05           29.40           29.4125   \n",
       "2007-08-17 22:00:00    31.34           26.32           29.8300   \n",
       "2007-08-17 23:00:00    25.51           24.05           25.4725   \n",
       "2007-08-18 00:00:00    25.55           25.91           25.4875   \n",
       "2007-08-18 01:00:00    23.59           23.52           23.4425   \n",
       "2007-08-18 02:00:00    20.08           18.15           20.9675   \n",
       "2007-08-18 03:00:00    18.04           12.08           18.6650   \n",
       "2007-08-18 04:00:00    17.07           10.44           17.7125   \n",
       "2007-08-18 05:00:00    17.92           14.00           19.3100   \n",
       "...                      ...             ...               ...   \n",
       "2017-08-30 18:00:00    39.23           45.94           40.7650   \n",
       "2017-08-30 19:00:00    40.94           48.05           43.0600   \n",
       "2017-08-30 20:00:00    39.27           44.90           41.1125   \n",
       "2017-08-30 21:00:00    38.15           41.92           39.8975   \n",
       "2017-08-30 22:00:00    37.53           35.96           36.7150   \n",
       "2017-08-30 23:00:00    34.46           31.29           33.0650   \n",
       "2017-08-31 00:00:00    28.10           29.99           29.4550   \n",
       "2017-08-31 01:00:00    26.47           29.48           28.1575   \n",
       "2017-08-31 02:00:00    24.76           28.10           26.9025   \n",
       "2017-08-31 03:00:00    23.36           27.73           26.1300   \n",
       "2017-08-31 04:00:00    23.39           28.00           26.0925   \n",
       "2017-08-31 05:00:00    25.08           30.27           28.0900   \n",
       "2017-08-31 06:00:00    28.58           36.45           33.1950   \n",
       "2017-08-31 07:00:00    34.94           39.42           37.0175   \n",
       "2017-08-31 08:00:00    35.98           42.14           39.7850   \n",
       "2017-08-31 09:00:00    35.98           42.09           39.8150   \n",
       "2017-08-31 10:00:00    35.89           40.70           38.7525   \n",
       "2017-08-31 11:00:00    34.72           39.94           38.1525   \n",
       "2017-08-31 12:00:00    30.57           32.38           34.4925   \n",
       "2017-08-31 13:00:00    27.13           29.63           32.3375   \n",
       "2017-08-31 14:00:00    22.03           29.69           30.2300   \n",
       "2017-08-31 15:00:00    20.28           29.80           29.5375   \n",
       "2017-08-31 16:00:00    18.09           31.76           29.4425   \n",
       "2017-08-31 17:00:00    23.99           39.70           34.0150   \n",
       "2017-08-31 18:00:00    26.82           42.75           36.2475   \n",
       "2017-08-31 19:00:00    29.76           44.89           38.3075   \n",
       "2017-08-31 20:00:00    30.76           44.55           37.4125   \n",
       "2017-08-31 21:00:00    31.85           42.91           36.9850   \n",
       "2017-08-31 22:00:00    29.69           39.22           35.1400   \n",
       "2017-08-31 23:00:00    25.52           33.96           30.5375   \n",
       "\n",
       "                     pred_model_conv  \n",
       "2007-08-17 00:00:00        25.617456  \n",
       "2007-08-17 01:00:00        21.973835  \n",
       "2007-08-17 02:00:00        19.427799  \n",
       "2007-08-17 03:00:00        16.016214  \n",
       "2007-08-17 04:00:00        15.452075  \n",
       "2007-08-17 05:00:00        18.625969  \n",
       "2007-08-17 06:00:00        24.305254  \n",
       "2007-08-17 07:00:00        31.310080  \n",
       "2007-08-17 08:00:00        34.136948  \n",
       "2007-08-17 09:00:00        37.097416  \n",
       "2007-08-17 10:00:00        39.590187  \n",
       "2007-08-17 11:00:00        43.313675  \n",
       "2007-08-17 12:00:00        38.661407  \n",
       "2007-08-17 13:00:00        36.162766  \n",
       "2007-08-17 14:00:00        35.057678  \n",
       "2007-08-17 15:00:00        31.344793  \n",
       "2007-08-17 16:00:00        31.938009  \n",
       "2007-08-17 17:00:00        31.342154  \n",
       "2007-08-17 18:00:00        29.386541  \n",
       "2007-08-17 19:00:00        28.442808  \n",
       "2007-08-17 20:00:00        29.482525  \n",
       "2007-08-17 21:00:00        30.433340  \n",
       "2007-08-17 22:00:00        31.368948  \n",
       "2007-08-17 23:00:00        26.232536  \n",
       "2007-08-18 00:00:00        26.707878  \n",
       "2007-08-18 01:00:00        23.306932  \n",
       "2007-08-18 02:00:00        20.649193  \n",
       "2007-08-18 03:00:00        17.575609  \n",
       "2007-08-18 04:00:00        16.829802  \n",
       "2007-08-18 05:00:00        17.794077  \n",
       "...                              ...  \n",
       "2017-08-30 18:00:00        41.808033  \n",
       "2017-08-30 19:00:00        45.274567  \n",
       "2017-08-30 20:00:00        42.401554  \n",
       "2017-08-30 21:00:00        39.305115  \n",
       "2017-08-30 22:00:00        36.867462  \n",
       "2017-08-30 23:00:00        32.651173  \n",
       "2017-08-31 00:00:00        27.638618  \n",
       "2017-08-31 01:00:00        25.503658  \n",
       "2017-08-31 02:00:00        24.906990  \n",
       "2017-08-31 03:00:00        24.273729  \n",
       "2017-08-31 04:00:00        24.079920  \n",
       "2017-08-31 05:00:00        26.669287  \n",
       "2017-08-31 06:00:00        34.666325  \n",
       "2017-08-31 07:00:00        40.816063  \n",
       "2017-08-31 08:00:00        42.343491  \n",
       "2017-08-31 09:00:00        39.284489  \n",
       "2017-08-31 10:00:00        37.066547  \n",
       "2017-08-31 11:00:00        36.191166  \n",
       "2017-08-31 12:00:00        32.507969  \n",
       "2017-08-31 13:00:00        31.067150  \n",
       "2017-08-31 14:00:00        30.725462  \n",
       "2017-08-31 15:00:00        29.990191  \n",
       "2017-08-31 16:00:00        31.147942  \n",
       "2017-08-31 17:00:00        35.204441  \n",
       "2017-08-31 18:00:00        39.856163  \n",
       "2017-08-31 19:00:00        42.561207  \n",
       "2017-08-31 20:00:00        40.050240  \n",
       "2017-08-31 21:00:00        36.682388  \n",
       "2017-08-31 22:00:00        34.433167  \n",
       "2017-08-31 23:00:00        29.829092  \n",
       "\n",
       "[88032 rows x 9 columns]"
      ]
     },
     "execution_count": 36,
     "metadata": {},
     "output_type": "execute_result"
    }
   ],
   "source": [
    "data"
   ]
  },
  {
   "cell_type": "code",
   "execution_count": 129,
   "metadata": {
    "collapsed": true
   },
   "outputs": [],
   "source": [
    "model = load_model('./2017-10-04_conv_LSTM_try.hdf5')"
   ]
  },
  {
   "cell_type": "code",
   "execution_count": 133,
   "metadata": {
    "collapsed": true
   },
   "outputs": [],
   "source": [
    "pred = model.predict(new_features_LSTM)"
   ]
  },
  {
   "cell_type": "code",
   "execution_count": null,
   "metadata": {
    "collapsed": true
   },
   "outputs": [],
   "source": []
  }
 ],
 "metadata": {
  "kernelspec": {
   "display_name": "Python 3",
   "language": "python",
   "name": "python3"
  },
  "language_info": {
   "codemirror_mode": {
    "name": "ipython",
    "version": 3
   },
   "file_extension": ".py",
   "mimetype": "text/x-python",
   "name": "python",
   "nbconvert_exporter": "python",
   "pygments_lexer": "ipython3",
   "version": "3.6.1"
  }
 },
 "nbformat": 4,
 "nbformat_minor": 2
}
