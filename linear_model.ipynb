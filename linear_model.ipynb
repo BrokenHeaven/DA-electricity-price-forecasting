{
 "cells": [
  {
   "cell_type": "code",
   "execution_count": 1,
   "metadata": {},
   "outputs": [
    {
     "name": "stderr",
     "output_type": "stream",
     "text": [
      "Using TensorFlow backend.\n"
     ]
    }
   ],
   "source": [
    "import pandas as pd\n",
    "import numpy as np\n",
    "import datetime as dt\n",
    "from keras.models import load_model\n",
    "from sklearn.externals import joblib\n",
    "from sklearn.metrics import mean_absolute_error\n",
    "from sklearn.linear_model import Lasso, LassoLars, LinearRegression, ElasticNet, Ridge, PassiveAggressiveRegressor, \\\n",
    "SGDRegressor\n",
    "from sklearn.ensemble import AdaBoostRegressor, GradientBoostingRegressor, RandomForestRegressor, BaggingRegressor\n",
    "\n",
    "%matplotlib inline"
   ]
  },
  {
   "cell_type": "code",
   "execution_count": 2,
   "metadata": {
    "collapsed": true
   },
   "outputs": [],
   "source": [
    "price_data = pd.read_csv('./raw_data/EPEX_spot_DA_auction_hour_prices_20070720-20170831.csv', parse_dates=True,\n",
    "                        index_col=0)"
   ]
  },
  {
   "cell_type": "code",
   "execution_count": 3,
   "metadata": {
    "collapsed": true
   },
   "outputs": [],
   "source": [
    "scaler = joblib.load('./models/DA_price_scaler.pkl')"
   ]
  },
  {
   "cell_type": "code",
   "execution_count": 4,
   "metadata": {
    "collapsed": true
   },
   "outputs": [],
   "source": [
    "price_data.loc[:, 'DA_price_scaled'] = scaler.transform(price_data['DA_price'].values.reshape(-1, 1))"
   ]
  },
  {
   "cell_type": "code",
   "execution_count": 5,
   "metadata": {
    "collapsed": true
   },
   "outputs": [],
   "source": [
    "timeseries_input = price_data['DA_price_scaled'].copy(deep=True).to_frame()"
   ]
  },
  {
   "cell_type": "code",
   "execution_count": 6,
   "metadata": {
    "collapsed": true
   },
   "outputs": [],
   "source": [
    "lags = 168\n",
    "for l in range(1, lags+1):\n",
    "    timeseries_input['l_{}'.format(l)] = timeseries_input['DA_price_scaled'].shift(l)"
   ]
  },
  {
   "cell_type": "code",
   "execution_count": 7,
   "metadata": {
    "collapsed": true
   },
   "outputs": [],
   "source": [
    "timeseries_input.dropna(inplace=True)"
   ]
  },
  {
   "cell_type": "code",
   "execution_count": 8,
   "metadata": {
    "collapsed": true
   },
   "outputs": [],
   "source": [
    "timeseries_input.drop('DA_price_scaled', axis=1, inplace=True)"
   ]
  },
  {
   "cell_type": "code",
   "execution_count": 9,
   "metadata": {
    "collapsed": true
   },
   "outputs": [],
   "source": [
    "features = timeseries_input[timeseries_input.index.hour == 0]"
   ]
  },
  {
   "cell_type": "code",
   "execution_count": 10,
   "metadata": {
    "collapsed": true
   },
   "outputs": [],
   "source": [
    "feature_arr = features.as_matrix().reshape(features.shape[0], features.shape[1], 1)\n",
    "feature_arr_lin = features.as_matrix().reshape(features.shape[0], features.shape[1])"
   ]
  },
  {
   "cell_type": "code",
   "execution_count": 11,
   "metadata": {
    "collapsed": true
   },
   "outputs": [],
   "source": [
    "timeseries_model = load_model('./models/timeseries_final_model_tuning.hdf5')"
   ]
  },
  {
   "cell_type": "code",
   "execution_count": 12,
   "metadata": {
    "collapsed": true
   },
   "outputs": [],
   "source": [
    "pred = timeseries_model.predict([feature_arr, feature_arr_lin])"
   ]
  },
  {
   "cell_type": "code",
   "execution_count": 13,
   "metadata": {
    "collapsed": true
   },
   "outputs": [],
   "source": [
    "price_data.loc[timeseries_input.index[0]:timeseries_input.index[-1], 'bottleneck_features'] = scaler.inverse_transform(pred).flatten()"
   ]
  },
  {
   "cell_type": "code",
   "execution_count": 14,
   "metadata": {
    "collapsed": true
   },
   "outputs": [],
   "source": [
    "price_data.dropna(inplace=True)\n",
    "price_data.drop('DA_price_scaled', axis=1, inplace=True)"
   ]
  },
  {
   "cell_type": "code",
   "execution_count": 15,
   "metadata": {
    "collapsed": true
   },
   "outputs": [],
   "source": [
    "gen = pd.read_csv('./processed_data/20150101-20170830-gen_per_prod_type.csv', parse_dates=True, index_col=0)\n",
    "forecast = pd.read_csv('./processed_data/20150101-20170830-forecast_load_renewable_gen.csv', parse_dates=True, index_col=0)"
   ]
  },
  {
   "cell_type": "code",
   "execution_count": 16,
   "metadata": {
    "collapsed": true
   },
   "outputs": [],
   "source": [
    "data = pd.concat([gen, forecast], axis=1)"
   ]
  },
  {
   "cell_type": "markdown",
   "metadata": {},
   "source": [
    "### Simple Regression Model on important features"
   ]
  },
  {
   "cell_type": "code",
   "execution_count": 17,
   "metadata": {},
   "outputs": [
    {
     "data": {
      "text/plain": [
       "Index(['biomass', 'brown_coal', 'hard_coal', 'wind_offshore', 'pumped_hydro',\n",
       "       'solar', 'river_hydro', 'wind_onshore', 'nuclear', 'other',\n",
       "       'load_forecast', 'load_true', 'sum_forecast', 'solar_forecast',\n",
       "       'offshore_forecast', 'onshore_forecast'],\n",
       "      dtype='object')"
      ]
     },
     "execution_count": 17,
     "metadata": {},
     "output_type": "execute_result"
    }
   ],
   "source": [
    "data.columns"
   ]
  },
  {
   "cell_type": "code",
   "execution_count": 50,
   "metadata": {
    "collapsed": true
   },
   "outputs": [],
   "source": [
    "# prim_cols = ['brown_coal', 'hard_coal', 'load_true', 'nuclear', 'solar', 'wind_offshore', 'wind_onshore']\n",
    "prim_cols = ['brown_coal', 'hard_coal', 'load_true', 'nuclear', 'solar', 'wind_offshore', 'wind_onshore',\n",
    "             'pumped_hydro', 'river_hydro', 'other']\n",
    "sub_cols = ['solar_forecast', 'offshore_forecast', 'onshore_forecast', 'load_forecast', 'brown_coal', 'hard_coal',\n",
    "            'nuclear', 'pumped_hydro', 'river_hydro', 'other']"
   ]
  },
  {
   "cell_type": "code",
   "execution_count": 51,
   "metadata": {
    "collapsed": true
   },
   "outputs": [],
   "source": [
    "training_data = data[prim_cols]\n",
    "training_data_sub = data[sub_cols]"
   ]
  },
  {
   "cell_type": "code",
   "execution_count": 52,
   "metadata": {},
   "outputs": [
    {
     "data": {
      "text/html": [
       "<div>\n",
       "<style>\n",
       "    .dataframe thead tr:only-child th {\n",
       "        text-align: right;\n",
       "    }\n",
       "\n",
       "    .dataframe thead th {\n",
       "        text-align: left;\n",
       "    }\n",
       "\n",
       "    .dataframe tbody tr th {\n",
       "        vertical-align: top;\n",
       "    }\n",
       "</style>\n",
       "<table border=\"1\" class=\"dataframe\">\n",
       "  <thead>\n",
       "    <tr style=\"text-align: right;\">\n",
       "      <th></th>\n",
       "      <th>brown_coal</th>\n",
       "      <th>hard_coal</th>\n",
       "      <th>load_true</th>\n",
       "      <th>nuclear</th>\n",
       "      <th>solar</th>\n",
       "      <th>wind_offshore</th>\n",
       "      <th>wind_onshore</th>\n",
       "      <th>pumped_hydro</th>\n",
       "      <th>river_hydro</th>\n",
       "      <th>other</th>\n",
       "    </tr>\n",
       "    <tr>\n",
       "      <th>MTU</th>\n",
       "      <th></th>\n",
       "      <th></th>\n",
       "      <th></th>\n",
       "      <th></th>\n",
       "      <th></th>\n",
       "      <th></th>\n",
       "      <th></th>\n",
       "      <th></th>\n",
       "      <th></th>\n",
       "      <th></th>\n",
       "    </tr>\n",
       "  </thead>\n",
       "  <tbody>\n",
       "    <tr>\n",
       "      <th>2015-01-01 00:00:00</th>\n",
       "      <td>15905.0</td>\n",
       "      <td>2760.0</td>\n",
       "      <td>49025.0</td>\n",
       "      <td>10742.0</td>\n",
       "      <td>0.0</td>\n",
       "      <td>520.0</td>\n",
       "      <td>8177.0</td>\n",
       "      <td>708.0</td>\n",
       "      <td>2689.0</td>\n",
       "      <td>4889.0</td>\n",
       "    </tr>\n",
       "    <tr>\n",
       "      <th>2015-01-01 00:15:00</th>\n",
       "      <td>15853.0</td>\n",
       "      <td>2900.0</td>\n",
       "      <td>48534.0</td>\n",
       "      <td>10585.0</td>\n",
       "      <td>0.0</td>\n",
       "      <td>517.0</td>\n",
       "      <td>8153.0</td>\n",
       "      <td>576.0</td>\n",
       "      <td>2672.0</td>\n",
       "      <td>4803.0</td>\n",
       "    </tr>\n",
       "    <tr>\n",
       "      <th>2015-01-01 00:30:00</th>\n",
       "      <td>15699.0</td>\n",
       "      <td>2798.0</td>\n",
       "      <td>48548.0</td>\n",
       "      <td>10643.0</td>\n",
       "      <td>0.0</td>\n",
       "      <td>514.0</td>\n",
       "      <td>8226.0</td>\n",
       "      <td>607.0</td>\n",
       "      <td>2662.0</td>\n",
       "      <td>4869.0</td>\n",
       "    </tr>\n",
       "    <tr>\n",
       "      <th>2015-01-01 00:45:00</th>\n",
       "      <td>15487.0</td>\n",
       "      <td>2673.0</td>\n",
       "      <td>48249.0</td>\n",
       "      <td>10872.0</td>\n",
       "      <td>0.0</td>\n",
       "      <td>515.0</td>\n",
       "      <td>8217.0</td>\n",
       "      <td>285.0</td>\n",
       "      <td>2656.0</td>\n",
       "      <td>4851.0</td>\n",
       "    </tr>\n",
       "    <tr>\n",
       "      <th>2015-01-01 01:00:00</th>\n",
       "      <td>15596.0</td>\n",
       "      <td>2096.0</td>\n",
       "      <td>47658.0</td>\n",
       "      <td>11089.0</td>\n",
       "      <td>0.0</td>\n",
       "      <td>515.0</td>\n",
       "      <td>8257.0</td>\n",
       "      <td>269.0</td>\n",
       "      <td>2622.0</td>\n",
       "      <td>4782.0</td>\n",
       "    </tr>\n",
       "  </tbody>\n",
       "</table>\n",
       "</div>"
      ],
      "text/plain": [
       "                     brown_coal  hard_coal  load_true  nuclear  solar  \\\n",
       "MTU                                                                     \n",
       "2015-01-01 00:00:00     15905.0     2760.0    49025.0  10742.0    0.0   \n",
       "2015-01-01 00:15:00     15853.0     2900.0    48534.0  10585.0    0.0   \n",
       "2015-01-01 00:30:00     15699.0     2798.0    48548.0  10643.0    0.0   \n",
       "2015-01-01 00:45:00     15487.0     2673.0    48249.0  10872.0    0.0   \n",
       "2015-01-01 01:00:00     15596.0     2096.0    47658.0  11089.0    0.0   \n",
       "\n",
       "                     wind_offshore  wind_onshore  pumped_hydro  river_hydro  \\\n",
       "MTU                                                                           \n",
       "2015-01-01 00:00:00          520.0        8177.0         708.0       2689.0   \n",
       "2015-01-01 00:15:00          517.0        8153.0         576.0       2672.0   \n",
       "2015-01-01 00:30:00          514.0        8226.0         607.0       2662.0   \n",
       "2015-01-01 00:45:00          515.0        8217.0         285.0       2656.0   \n",
       "2015-01-01 01:00:00          515.0        8257.0         269.0       2622.0   \n",
       "\n",
       "                      other  \n",
       "MTU                          \n",
       "2015-01-01 00:00:00  4889.0  \n",
       "2015-01-01 00:15:00  4803.0  \n",
       "2015-01-01 00:30:00  4869.0  \n",
       "2015-01-01 00:45:00  4851.0  \n",
       "2015-01-01 01:00:00  4782.0  "
      ]
     },
     "execution_count": 52,
     "metadata": {},
     "output_type": "execute_result"
    }
   ],
   "source": [
    "training_data.head()"
   ]
  },
  {
   "cell_type": "code",
   "execution_count": 53,
   "metadata": {
    "collapsed": true
   },
   "outputs": [],
   "source": [
    "training_data = training_data.resample('1H').mean()\n",
    "training_data_sub = training_data_sub.resample('1H').mean()"
   ]
  },
  {
   "cell_type": "code",
   "execution_count": 54,
   "metadata": {
    "collapsed": true
   },
   "outputs": [],
   "source": [
    "training_data = training_data.join(price_data)\n",
    "training_data_sub = training_data_sub.join(price_data)"
   ]
  },
  {
   "cell_type": "code",
   "execution_count": 55,
   "metadata": {
    "collapsed": true
   },
   "outputs": [],
   "source": [
    "training_data.dropna(inplace=True)\n",
    "training_data_sub.dropna(inplace=True)"
   ]
  },
  {
   "cell_type": "code",
   "execution_count": 24,
   "metadata": {
    "scrolled": true
   },
   "outputs": [
    {
     "data": {
      "text/html": [
       "<div>\n",
       "<style>\n",
       "    .dataframe thead tr:only-child th {\n",
       "        text-align: right;\n",
       "    }\n",
       "\n",
       "    .dataframe thead th {\n",
       "        text-align: left;\n",
       "    }\n",
       "\n",
       "    .dataframe tbody tr th {\n",
       "        vertical-align: top;\n",
       "    }\n",
       "</style>\n",
       "<table border=\"1\" class=\"dataframe\">\n",
       "  <thead>\n",
       "    <tr style=\"text-align: right;\">\n",
       "      <th></th>\n",
       "      <th>brown_coal</th>\n",
       "      <th>hard_coal</th>\n",
       "      <th>load_true</th>\n",
       "      <th>nuclear</th>\n",
       "      <th>solar</th>\n",
       "      <th>wind_offshore</th>\n",
       "      <th>wind_onshore</th>\n",
       "      <th>pumped_hydro</th>\n",
       "      <th>river_hydro</th>\n",
       "      <th>other</th>\n",
       "      <th>DA_price</th>\n",
       "      <th>bottleneck_features</th>\n",
       "    </tr>\n",
       "    <tr>\n",
       "      <th>MTU</th>\n",
       "      <th></th>\n",
       "      <th></th>\n",
       "      <th></th>\n",
       "      <th></th>\n",
       "      <th></th>\n",
       "      <th></th>\n",
       "      <th></th>\n",
       "      <th></th>\n",
       "      <th></th>\n",
       "      <th></th>\n",
       "      <th></th>\n",
       "      <th></th>\n",
       "    </tr>\n",
       "  </thead>\n",
       "  <tbody>\n",
       "    <tr>\n",
       "      <th>2015-01-01 00:00:00</th>\n",
       "      <td>15736.00</td>\n",
       "      <td>2782.75</td>\n",
       "      <td>48589.00</td>\n",
       "      <td>10710.50</td>\n",
       "      <td>0.0</td>\n",
       "      <td>516.50</td>\n",
       "      <td>8193.25</td>\n",
       "      <td>544.00</td>\n",
       "      <td>2669.75</td>\n",
       "      <td>4853.00</td>\n",
       "      <td>25.02</td>\n",
       "      <td>26.270916</td>\n",
       "    </tr>\n",
       "    <tr>\n",
       "      <th>2015-01-01 01:00:00</th>\n",
       "      <td>15364.75</td>\n",
       "      <td>1929.75</td>\n",
       "      <td>47032.25</td>\n",
       "      <td>11086.25</td>\n",
       "      <td>0.0</td>\n",
       "      <td>516.25</td>\n",
       "      <td>8367.50</td>\n",
       "      <td>409.50</td>\n",
       "      <td>2617.00</td>\n",
       "      <td>4743.50</td>\n",
       "      <td>18.29</td>\n",
       "      <td>22.510576</td>\n",
       "    </tr>\n",
       "    <tr>\n",
       "      <th>2015-01-01 02:00:00</th>\n",
       "      <td>14852.75</td>\n",
       "      <td>1824.00</td>\n",
       "      <td>45619.00</td>\n",
       "      <td>11026.25</td>\n",
       "      <td>0.0</td>\n",
       "      <td>514.00</td>\n",
       "      <td>8604.00</td>\n",
       "      <td>632.75</td>\n",
       "      <td>2578.75</td>\n",
       "      <td>4836.50</td>\n",
       "      <td>16.04</td>\n",
       "      <td>20.091061</td>\n",
       "    </tr>\n",
       "    <tr>\n",
       "      <th>2015-01-01 03:00:00</th>\n",
       "      <td>14111.00</td>\n",
       "      <td>1959.00</td>\n",
       "      <td>44253.75</td>\n",
       "      <td>11027.75</td>\n",
       "      <td>0.0</td>\n",
       "      <td>517.75</td>\n",
       "      <td>8617.00</td>\n",
       "      <td>558.25</td>\n",
       "      <td>2545.25</td>\n",
       "      <td>4840.25</td>\n",
       "      <td>14.60</td>\n",
       "      <td>17.686140</td>\n",
       "    </tr>\n",
       "    <tr>\n",
       "      <th>2015-01-01 04:00:00</th>\n",
       "      <td>14149.00</td>\n",
       "      <td>2012.25</td>\n",
       "      <td>43765.50</td>\n",
       "      <td>10962.25</td>\n",
       "      <td>0.0</td>\n",
       "      <td>519.75</td>\n",
       "      <td>8707.50</td>\n",
       "      <td>602.75</td>\n",
       "      <td>2557.75</td>\n",
       "      <td>4820.75</td>\n",
       "      <td>14.95</td>\n",
       "      <td>17.597729</td>\n",
       "    </tr>\n",
       "  </tbody>\n",
       "</table>\n",
       "</div>"
      ],
      "text/plain": [
       "                     brown_coal  hard_coal  load_true   nuclear  solar  \\\n",
       "MTU                                                                      \n",
       "2015-01-01 00:00:00    15736.00    2782.75   48589.00  10710.50    0.0   \n",
       "2015-01-01 01:00:00    15364.75    1929.75   47032.25  11086.25    0.0   \n",
       "2015-01-01 02:00:00    14852.75    1824.00   45619.00  11026.25    0.0   \n",
       "2015-01-01 03:00:00    14111.00    1959.00   44253.75  11027.75    0.0   \n",
       "2015-01-01 04:00:00    14149.00    2012.25   43765.50  10962.25    0.0   \n",
       "\n",
       "                     wind_offshore  wind_onshore  pumped_hydro  river_hydro  \\\n",
       "MTU                                                                           \n",
       "2015-01-01 00:00:00         516.50       8193.25        544.00      2669.75   \n",
       "2015-01-01 01:00:00         516.25       8367.50        409.50      2617.00   \n",
       "2015-01-01 02:00:00         514.00       8604.00        632.75      2578.75   \n",
       "2015-01-01 03:00:00         517.75       8617.00        558.25      2545.25   \n",
       "2015-01-01 04:00:00         519.75       8707.50        602.75      2557.75   \n",
       "\n",
       "                       other  DA_price  bottleneck_features  \n",
       "MTU                                                          \n",
       "2015-01-01 00:00:00  4853.00     25.02            26.270916  \n",
       "2015-01-01 01:00:00  4743.50     18.29            22.510576  \n",
       "2015-01-01 02:00:00  4836.50     16.04            20.091061  \n",
       "2015-01-01 03:00:00  4840.25     14.60            17.686140  \n",
       "2015-01-01 04:00:00  4820.75     14.95            17.597729  "
      ]
     },
     "execution_count": 24,
     "metadata": {},
     "output_type": "execute_result"
    }
   ],
   "source": [
    "training_data.head()"
   ]
  },
  {
   "cell_type": "markdown",
   "metadata": {},
   "source": [
    "### Benchmark from the timeseries model"
   ]
  },
  {
   "cell_type": "code",
   "execution_count": 56,
   "metadata": {
    "collapsed": true
   },
   "outputs": [],
   "source": [
    "train = training_data[:'2016']\n",
    "test = training_data['2017']\n",
    "\n",
    "train_sub = training_data_sub[:'2016']\n",
    "test_sub = training_data_sub['2017']"
   ]
  },
  {
   "cell_type": "code",
   "execution_count": 57,
   "metadata": {},
   "outputs": [
    {
     "name": "stdout",
     "output_type": "stream",
     "text": [
      "5.55367538082\n"
     ]
    }
   ],
   "source": [
    "print(mean_absolute_error(test.DA_price, test.bottleneck_features))"
   ]
  },
  {
   "cell_type": "markdown",
   "metadata": {},
   "source": [
    "### Benchmark regression with perfect information"
   ]
  },
  {
   "cell_type": "code",
   "execution_count": 65,
   "metadata": {
    "collapsed": true
   },
   "outputs": [],
   "source": [
    "features_train = train[['brown_coal', 'hard_coal', 'load_true', 'nuclear', 'solar', 'wind_offshore', 'wind_onshore',\n",
    "                       'bottleneck_features', 'pumped_hydro', 'river_hydro', 'other']]\n",
    "labels_train = train[['DA_price']]\n",
    "features_test = test[['brown_coal', 'hard_coal', 'load_true', 'nuclear', 'solar', 'wind_offshore', 'wind_onshore',\n",
    "                       'bottleneck_features', 'pumped_hydro', 'river_hydro', 'other']]"
   ]
  },
  {
   "cell_type": "code",
   "execution_count": 66,
   "metadata": {},
   "outputs": [
    {
     "name": "stdout",
     "output_type": "stream",
     "text": [
      "4.62698059411\n"
     ]
    }
   ],
   "source": [
    "regr = LinearRegression()\n",
    "\n",
    "regr.fit(features_train.as_matrix(), labels_train.as_matrix())\n",
    "\n",
    "pred = regr.predict(features_test)\n",
    "\n",
    "print(mean_absolute_error(test.DA_price, pred))"
   ]
  },
  {
   "cell_type": "code",
   "execution_count": 67,
   "metadata": {
    "collapsed": true
   },
   "outputs": [],
   "source": [
    "from sklearn.feature_selection import RFE"
   ]
  },
  {
   "cell_type": "code",
   "execution_count": 68,
   "metadata": {},
   "outputs": [
    {
     "name": "stderr",
     "output_type": "stream",
     "text": [
      "/home/fritz/opt/anaconda3/envs/datascience/lib/python3.6/site-packages/sklearn/utils/validation.py:547: DataConversionWarning: A column-vector y was passed when a 1d array was expected. Please change the shape of y to (n_samples, ), for example using ravel().\n",
      "  y = column_or_1d(y, warn=True)\n"
     ]
    },
    {
     "data": {
      "text/plain": [
       "array([ 3, 10,  9, 11,  8,  7,  5,  1,  2,  6,  4])"
      ]
     },
     "execution_count": 68,
     "metadata": {},
     "output_type": "execute_result"
    }
   ],
   "source": [
    "selector = RFE(LinearRegression(), n_features_to_select=1)\n",
    "selector.fit(features_train.as_matrix(), labels_train.as_matrix())\n",
    "selector.ranking_"
   ]
  },
  {
   "cell_type": "markdown",
   "metadata": {},
   "source": [
    "### Using forecast inputs"
   ]
  },
  {
   "cell_type": "code",
   "execution_count": 69,
   "metadata": {},
   "outputs": [],
   "source": [
    "features_train = train_sub[['solar_forecast', 'offshore_forecast', 'onshore_forecast', 'load_forecast',\n",
    "                        'bottleneck_features', 'brown_coal', 'hard_coal', 'nuclear', 'pumped_hydro',\n",
    "                        'river_hydro', 'other']]\n",
    "labels_train = train_sub[['DA_price']]\n",
    "features_test = test_sub[['solar_forecast', 'offshore_forecast', 'onshore_forecast', 'load_forecast',\n",
    "                        'bottleneck_features', 'brown_coal', 'hard_coal', 'nuclear', 'pumped_hydro',\n",
    "                        'river_hydro', 'other']]"
   ]
  },
  {
   "cell_type": "code",
   "execution_count": 70,
   "metadata": {},
   "outputs": [
    {
     "name": "stdout",
     "output_type": "stream",
     "text": [
      "4.52281743062\n"
     ]
    }
   ],
   "source": [
    "regr = LinearRegression()\n",
    "\n",
    "regr.fit(features_train.as_matrix(), labels_train.as_matrix())\n",
    "\n",
    "pred = regr.predict(features_test)\n",
    "\n",
    "print(mean_absolute_error(test_sub.DA_price, pred))"
   ]
  },
  {
   "cell_type": "markdown",
   "metadata": {},
   "source": [
    "### Using 'predictable' inputs"
   ]
  },
  {
   "cell_type": "code",
   "execution_count": 76,
   "metadata": {},
   "outputs": [],
   "source": [
    "features_train = train[['load_true', 'solar','wind_offshore', 'wind_onshore',\n",
    "                       'bottleneck_features']]\n",
    "labels_train = train[['DA_price']]\n",
    "features_test = test[['load_true', 'solar','wind_offshore', 'wind_onshore',\n",
    "                       'bottleneck_features']]"
   ]
  },
  {
   "cell_type": "code",
   "execution_count": 78,
   "metadata": {},
   "outputs": [
    {
     "name": "stdout",
     "output_type": "stream",
     "text": [
      "4.98114110312\n"
     ]
    }
   ],
   "source": [
    "regr = LinearRegression()\n",
    "\n",
    "regr.fit(features_train.as_matrix(), labels_train.as_matrix())\n",
    "\n",
    "pred = regr.predict(features_test)\n",
    "\n",
    "print(mean_absolute_error(test.DA_price, pred))"
   ]
  },
  {
   "cell_type": "code",
   "execution_count": 72,
   "metadata": {},
   "outputs": [],
   "source": [
    "features_train = train_sub[['load_forecast', 'solar_forecast','offshore_forecast', 'onshore_forecast',\n",
    "                       'bottleneck_features']]\n",
    "labels_train = train_sub[['DA_price']]\n",
    "features_test = test_sub[['load_forecast', 'solar_forecast','offshore_forecast', 'onshore_forecast',\n",
    "                       'bottleneck_features']]"
   ]
  },
  {
   "cell_type": "code",
   "execution_count": 74,
   "metadata": {},
   "outputs": [
    {
     "name": "stdout",
     "output_type": "stream",
     "text": [
      "4.72861605\n"
     ]
    }
   ],
   "source": [
    "regr = LinearRegression()\n",
    "\n",
    "regr.fit(features_train.as_matrix(), labels_train.as_matrix())\n",
    "\n",
    "pred = regr.predict(features_test)\n",
    "\n",
    "print(mean_absolute_error(test_sub.DA_price, pred))"
   ]
  }
 ],
 "metadata": {
  "kernelspec": {
   "display_name": "Python 3",
   "language": "python",
   "name": "python3"
  },
  "language_info": {
   "codemirror_mode": {
    "name": "ipython",
    "version": 3
   },
   "file_extension": ".py",
   "mimetype": "text/x-python",
   "name": "python",
   "nbconvert_exporter": "python",
   "pygments_lexer": "ipython3",
   "version": "3.6.1"
  }
 },
 "nbformat": 4,
 "nbformat_minor": 2
}
