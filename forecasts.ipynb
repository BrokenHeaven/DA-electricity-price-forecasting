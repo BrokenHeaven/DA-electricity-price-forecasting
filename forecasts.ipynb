{
 "cells": [
  {
   "cell_type": "code",
   "execution_count": 1,
   "metadata": {},
   "outputs": [
    {
     "name": "stderr",
     "output_type": "stream",
     "text": [
      "Using TensorFlow backend.\n"
     ]
    }
   ],
   "source": [
    "import pandas as pd\n",
    "import datetime as dt\n",
    "import numpy as np\n",
    "import matplotlib.pyplot as plt\n",
    "from sklearn.externals import joblib\n",
    "from sklearn.preprocessing import StandardScaler, RobustScaler, Normalizer\n",
    "from keras.models import load_model\n",
    "\n",
    "%matplotlib inline"
   ]
  },
  {
   "cell_type": "code",
   "execution_count": 2,
   "metadata": {
    "collapsed": true
   },
   "outputs": [],
   "source": [
    "date_parser = lambda x: dt.datetime.strptime(x[0:16], '%d.%m.%Y %H:%M')"
   ]
  },
  {
   "cell_type": "code",
   "execution_count": 3,
   "metadata": {
    "collapsed": true
   },
   "outputs": [],
   "source": [
    "data_raw1 = pd.read_csv('./raw_data/Total Load - Day Ahead Forecast - Actual_201501010000-201601010000.csv',\n",
    "                        index_col=0, date_parser=date_parser)\n",
    "\n",
    "data_raw2 = pd.read_csv('./raw_data/Total Load - Day Ahead Forecast- Actual_201601010000-201701010000.csv',\n",
    "                        index_col=0, date_parser=date_parser)\n",
    "\n",
    "data_raw3 = pd.read_csv('./raw_data/Total Load - Day Ahead Forecast - Actual_201701010000-201801010000.csv',\n",
    "                        index_col=0, date_parser=date_parser)\n",
    "\n",
    "\n",
    "data_raw1_f = pd.read_csv('./raw_data/Generation Forecasts - Day Ahead for Wind and Solar_201501010000-201601010000.csv',\n",
    "                        index_col=0, date_parser=date_parser)\n",
    "\n",
    "data_raw2_f = pd.read_csv('./raw_data/Generation Forecasts - Day Ahead for Wind and Solar_201601010000-201701010000.csv',\n",
    "                        index_col=0, date_parser=date_parser)\n",
    "\n",
    "data_raw3_f = pd.read_csv('./raw_data/Generation Forecasts - Day Ahead for Wind and Solar_201701010000-201801010000.csv',\n",
    "                        index_col=0, date_parser=date_parser)\n",
    "\n",
    "data_raw= pd.concat([data_raw1, data_raw2, data_raw3, data_raw1_f, data_raw2_f, data_raw3_f])"
   ]
  },
  {
   "cell_type": "code",
   "execution_count": 4,
   "metadata": {
    "collapsed": true
   },
   "outputs": [],
   "source": [
    "data_raw = data_raw.replace(['-', 'n/e'], np.NaN).dropna(how='all')"
   ]
  },
  {
   "cell_type": "code",
   "execution_count": 5,
   "metadata": {},
   "outputs": [
    {
     "data": {
      "text/plain": [
       "Index(['Actual Total Load [MW] - BZN|DE-AT-LU',\n",
       "       'Day-ahead Total Load Forecast [MW] - BZN|DE-AT-LU',\n",
       "       'Generation - Solar  [MW] (D) / BZN|DE-AT-LU',\n",
       "       'Generation - Sum [MW] (D) / BZN|DE-AT-LU',\n",
       "       'Generation - Wind Offshore  [MW] (D) / BZN|DE-AT-LU',\n",
       "       'Generation - Wind Onshore  [MW] (D) / BZN|DE-AT-LU'],\n",
       "      dtype='object')"
      ]
     },
     "execution_count": 5,
     "metadata": {},
     "output_type": "execute_result"
    }
   ],
   "source": [
    "data_raw.columns"
   ]
  },
  {
   "cell_type": "code",
   "execution_count": 6,
   "metadata": {
    "collapsed": true
   },
   "outputs": [],
   "source": [
    "# ['Day-ahead Total Load Forecast [MW] - BZN|DE-AT-LU']\n",
    "data = pd.DataFrame(data_raw.astype(float))\n",
    "\n",
    "data.columns = ['DA_load_forecast', 'DA_load_actual', 'solar_forecast', 'sum_forecast', 'offshore_forecast', 'onshore_forecast']"
   ]
  },
  {
   "cell_type": "code",
   "execution_count": 7,
   "metadata": {
    "collapsed": true
   },
   "outputs": [],
   "source": [
    "actual = pd.read_csv('./processed_data/20150101-20170830-gen_per_prod_type.csv', parse_dates=True, index_col=0)"
   ]
  },
  {
   "cell_type": "code",
   "execution_count": 19,
   "metadata": {},
   "outputs": [
    {
     "data": {
      "text/plain": [
       "count    94268.000000\n",
       "mean      8622.471348\n",
       "std       6725.535092\n",
       "min        187.000000\n",
       "25%       3638.000000\n",
       "50%       6631.000000\n",
       "75%      11475.000000\n",
       "max      37338.000000\n",
       "Name: onshore_forecast, dtype: float64"
      ]
     },
     "execution_count": 19,
     "metadata": {},
     "output_type": "execute_result"
    }
   ],
   "source": [
    "data.onshore_forecast.describe()"
   ]
  },
  {
   "cell_type": "code",
   "execution_count": 17,
   "metadata": {},
   "outputs": [
    {
     "data": {
      "text/plain": [
       "<matplotlib.axes._subplots.AxesSubplot at 0x7fb8537d70f0>"
      ]
     },
     "execution_count": 17,
     "metadata": {},
     "output_type": "execute_result"
    },
    {
     "data": {
      "image/png": "[encoded data removed]",
      "text/plain": [
       "<matplotlib.figure.Figure at 0x7fb857a2bd30>"
      ]
     },
     "metadata": {},
     "output_type": "display_data"
    }
   ],
   "source": [
    "(actual.wind_onshore - data.onshore_forecast).dropna().hist(bins=100)"
   ]
  },
  {
   "cell_type": "code",
   "execution_count": 20,
   "metadata": {},
   "outputs": [
    {
     "data": {
      "text/plain": [
       "count    94268.000000\n",
       "mean      4394.367293\n",
       "std       6531.778505\n",
       "min          0.000000\n",
       "25%          0.000000\n",
       "50%        196.000000\n",
       "75%       7282.000000\n",
       "max      28310.000000\n",
       "Name: solar_forecast, dtype: float64"
      ]
     },
     "execution_count": 20,
     "metadata": {},
     "output_type": "execute_result"
    }
   ],
   "source": [
    "data.solar_forecast.describe()"
   ]
  },
  {
   "cell_type": "code",
   "execution_count": 25,
   "metadata": {},
   "outputs": [
    {
     "data": {
      "text/plain": [
       "(0, 6000)"
      ]
     },
     "execution_count": 25,
     "metadata": {},
     "output_type": "execute_result"
    },
    {
     "data": {
      "image/png": "[encoded data removed]",
      "text/plain": [
       "<matplotlib.figure.Figure at 0x7fb8538fbc88>"
      ]
     },
     "metadata": {},
     "output_type": "display_data"
    }
   ],
   "source": [
    "f, ax = plt.subplots()\n",
    "(actual.solar - data.solar_forecast).dropna().hist(bins=100, ax=ax)\n",
    "ax.set_ylim([0, 6000])"
   ]
  },
  {
   "cell_type": "code",
   "execution_count": 26,
   "metadata": {},
   "outputs": [
    {
     "data": {
      "text/plain": [
       "count    94172.000000\n",
       "mean      1335.974971\n",
       "std       1044.548125\n",
       "min          4.000000\n",
       "25%        429.000000\n",
       "50%       1067.000000\n",
       "75%       2160.000000\n",
       "max       4175.000000\n",
       "Name: offshore_forecast, dtype: float64"
      ]
     },
     "execution_count": 26,
     "metadata": {},
     "output_type": "execute_result"
    }
   ],
   "source": [
    "data.offshore_forecast.describe()"
   ]
  },
  {
   "cell_type": "code",
   "execution_count": 29,
   "metadata": {},
   "outputs": [
    {
     "data": {
      "text/plain": [
       "<matplotlib.axes._subplots.AxesSubplot at 0x7fb853abb048>"
      ]
     },
     "execution_count": 29,
     "metadata": {},
     "output_type": "execute_result"
    },
    {
     "data": {
      "image/png": "[encoded data removed]",
      "text/plain": [
       "<matplotlib.figure.Figure at 0x7fb853865ba8>"
      ]
     },
     "metadata": {},
     "output_type": "display_data"
    }
   ],
   "source": [
    "(actual.wind_offshore - data.offshore_forecast).dropna().hist(bins=100)"
   ]
  },
  {
   "cell_type": "code",
   "execution_count": 11,
   "metadata": {},
   "outputs": [
    {
     "data": {
      "text/plain": [
       "<matplotlib.axes._subplots.AxesSubplot at 0x7f2ec57a7a90>"
      ]
     },
     "execution_count": 11,
     "metadata": {},
     "output_type": "execute_result"
    },
    {
     "data": {
      "image/png": "[encoded data removed]",
      "text/plain": [
       "<matplotlib.figure.Figure at 0x7f2ec57a7240>"
      ]
     },
     "metadata": {},
     "output_type": "display_data"
    }
   ],
   "source": [
    "(data.DA_load_actual - data.DA_load_forecast).dropna().hist(bins=100)"
   ]
  },
  {
   "cell_type": "code",
   "execution_count": 12,
   "metadata": {
    "collapsed": true,
    "scrolled": true
   },
   "outputs": [],
   "source": [
    "actual = actual.resample('1H').mean()"
   ]
  },
  {
   "cell_type": "code",
   "execution_count": 13,
   "metadata": {},
   "outputs": [],
   "source": [
    "data = data.resample('1H').mean()"
   ]
  },
  {
   "cell_type": "code",
   "execution_count": 14,
   "metadata": {
    "collapsed": true
   },
   "outputs": [],
   "source": [
    "actual['load'] = data.DA_load_actual"
   ]
  },
  {
   "cell_type": "code",
   "execution_count": 9,
   "metadata": {
    "collapsed": true
   },
   "outputs": [],
   "source": [
    "actual = actual[['solar', 'wind_offshore', 'wind_onshore', 'brown_coal', 'hard_coal', 'nuclear']]\n",
    "# actual = actual[['solar', 'wind_offshore', 'wind_onshore']]"
   ]
  },
  {
   "cell_type": "code",
   "execution_count": 16,
   "metadata": {
    "collapsed": true,
    "scrolled": false
   },
   "outputs": [],
   "source": [
    "missing = actual.iloc[pd.isnull(actual).any(1).nonzero()[0]]"
   ]
  },
  {
   "cell_type": "code",
   "execution_count": 17,
   "metadata": {
    "collapsed": true
   },
   "outputs": [],
   "source": [
    "big_gaps = (actual.dropna().index.to_series().diff() > pd.Timedelta('24:00:00'))"
   ]
  },
  {
   "cell_type": "code",
   "execution_count": 18,
   "metadata": {},
   "outputs": [
    {
     "data": {
      "text/plain": [
       "MTU\n",
       "2015-01-14 14:00:00    True\n",
       "2015-03-01 01:00:00    True\n",
       "2015-04-27 09:00:00    True\n",
       "2015-09-28 00:00:00    True\n",
       "2016-06-01 23:00:00    True\n",
       "2016-08-07 00:00:00    True\n",
       "2016-10-29 00:00:00    True\n",
       "2016-11-02 00:00:00    True\n",
       "2017-08-12 00:00:00    True\n",
       "Name: MTU, dtype: bool"
      ]
     },
     "execution_count": 18,
     "metadata": {},
     "output_type": "execute_result"
    }
   ],
   "source": [
    "big_gaps[big_gaps]"
   ]
  },
  {
   "cell_type": "code",
   "execution_count": 19,
   "metadata": {
    "collapsed": true
   },
   "outputs": [],
   "source": [
    "for col in actual.columns:\n",
    "    for row in actual.loc[actual[col].isnull(), col].index:\n",
    "        actual.loc[row, col] = actual[col].shift(24).loc[row]"
   ]
  },
  {
   "cell_type": "code",
   "execution_count": 20,
   "metadata": {},
   "outputs": [
    {
     "data": {
      "text/plain": [
       "False"
      ]
     },
     "execution_count": 20,
     "metadata": {},
     "output_type": "execute_result"
    }
   ],
   "source": [
    "any(actual.dropna().index.to_series().diff() > pd.Timedelta('01:00:00'))"
   ]
  },
  {
   "cell_type": "code",
   "execution_count": 60,
   "metadata": {
    "collapsed": true
   },
   "outputs": [],
   "source": [
    "scaler = RobustScaler()"
   ]
  },
  {
   "cell_type": "code",
   "execution_count": 61,
   "metadata": {
    "collapsed": true
   },
   "outputs": [],
   "source": [
    "cols = actual.columns"
   ]
  },
  {
   "cell_type": "code",
   "execution_count": 62,
   "metadata": {},
   "outputs": [
    {
     "data": {
      "text/plain": [
       "Index(['biomass', 'brown_coal', 'hard_coal', 'wind_offshore', 'pumped_hydro',\n",
       "       'solar', 'river_hydro', 'wind_onshore', 'nuclear', 'other', 'load'],\n",
       "      dtype='object')"
      ]
     },
     "execution_count": 62,
     "metadata": {},
     "output_type": "execute_result"
    }
   ],
   "source": [
    "cols"
   ]
  },
  {
   "cell_type": "code",
   "execution_count": 63,
   "metadata": {
    "collapsed": true
   },
   "outputs": [],
   "source": [
    "data_scaled = pd.DataFrame(index = actual.index, columns=cols)"
   ]
  },
  {
   "cell_type": "code",
   "execution_count": 64,
   "metadata": {},
   "outputs": [],
   "source": [
    "data_scaled[cols] = scaler.fit_transform(actual[cols])"
   ]
  },
  {
   "cell_type": "code",
   "execution_count": 65,
   "metadata": {},
   "outputs": [
    {
     "data": {
      "image/png": "[encoded data removed]",
      "text/plain": [
       "<matplotlib.figure.Figure at 0x7f53409d5cc0>"
      ]
     },
     "metadata": {},
     "output_type": "display_data"
    }
   ],
   "source": [
    "data_scaled.hist(figsize=(15, 15), bins=50);"
   ]
  },
  {
   "cell_type": "code",
   "execution_count": 77,
   "metadata": {},
   "outputs": [],
   "source": [
    "data_test = data_scaled['2017']\n",
    "data_train = data_scaled[data_scaled.index.year != 2017]"
   ]
  },
  {
   "cell_type": "code",
   "execution_count": 78,
   "metadata": {},
   "outputs": [
    {
     "data": {
      "text/html": [
       "<div>\n",
       "<style>\n",
       "    .dataframe thead tr:only-child th {\n",
       "        text-align: right;\n",
       "    }\n",
       "\n",
       "    .dataframe thead th {\n",
       "        text-align: left;\n",
       "    }\n",
       "\n",
       "    .dataframe tbody tr th {\n",
       "        vertical-align: top;\n",
       "    }\n",
       "</style>\n",
       "<table border=\"1\" class=\"dataframe\">\n",
       "  <thead>\n",
       "    <tr style=\"text-align: right;\">\n",
       "      <th></th>\n",
       "      <th>DA_price</th>\n",
       "    </tr>\n",
       "  </thead>\n",
       "  <tbody>\n",
       "    <tr>\n",
       "      <th>2007-07-20 00:00:00</th>\n",
       "      <td>25.69</td>\n",
       "    </tr>\n",
       "    <tr>\n",
       "      <th>2007-07-20 01:00:00</th>\n",
       "      <td>26.45</td>\n",
       "    </tr>\n",
       "    <tr>\n",
       "      <th>2007-07-20 02:00:00</th>\n",
       "      <td>24.33</td>\n",
       "    </tr>\n",
       "    <tr>\n",
       "      <th>2007-07-20 03:00:00</th>\n",
       "      <td>23.57</td>\n",
       "    </tr>\n",
       "    <tr>\n",
       "      <th>2007-07-20 04:00:00</th>\n",
       "      <td>18.96</td>\n",
       "    </tr>\n",
       "  </tbody>\n",
       "</table>\n",
       "</div>"
      ],
      "text/plain": [
       "                     DA_price\n",
       "2007-07-20 00:00:00     25.69\n",
       "2007-07-20 01:00:00     26.45\n",
       "2007-07-20 02:00:00     24.33\n",
       "2007-07-20 03:00:00     23.57\n",
       "2007-07-20 04:00:00     18.96"
      ]
     },
     "execution_count": 78,
     "metadata": {},
     "output_type": "execute_result"
    }
   ],
   "source": [
    "da_raw = pd.read_csv('./raw_data/EPEX_spot_DA_auction_hour_prices_20070720-20170831.csv',\n",
    "                     index_col=0, parse_dates=True)\n",
    "da_raw.head(n=5)"
   ]
  },
  {
   "cell_type": "code",
   "execution_count": 79,
   "metadata": {
    "collapsed": true
   },
   "outputs": [],
   "source": [
    "# keep raw data of the test set for model evaluation\n",
    "test_raw = da_raw['2017']"
   ]
  },
  {
   "cell_type": "code",
   "execution_count": 80,
   "metadata": {
    "collapsed": true
   },
   "outputs": [],
   "source": [
    "da_scaler = joblib.load('./models/DA_price_scaler.pkl')"
   ]
  },
  {
   "cell_type": "code",
   "execution_count": 81,
   "metadata": {},
   "outputs": [
    {
     "name": "stderr",
     "output_type": "stream",
     "text": [
      "/home/fritz/opt/anaconda3/envs/datascience/lib/python3.6/site-packages/ipykernel_launcher.py:13: FutureWarning: reshape is deprecated and will raise in a subsequent release. Please use .values.reshape(...) instead\n",
      "  del sys.path[0]\n"
     ]
    }
   ],
   "source": [
    "da_prep = pd.DataFrame(index=da_raw.index)\n",
    "\n",
    "# calculate quantiles and inter-quantile range of the data\n",
    "q75 = da_raw['DA_price'].quantile(.75)\n",
    "q25 = da_raw['DA_price'].quantile(.25)\n",
    "IQR = q75 - q25\n",
    "\n",
    "# values larger (smaller) than q75 (q25) plus 'tol' times IQR get replaces by that value\n",
    "tol = 3\n",
    "da_prep['DA_price'] = da_raw['DA_price'].apply(lambda x: q75 + tol * IQR if (x > q75 + tol * IQR) else x)\n",
    "da_prep['DA_price'] = da_prep['DA_price'].apply(lambda x: q25 - tol * IQR if (x < q75 - tol * IQR) else x)\n",
    "\n",
    "da_prep['DA_price'] = da_scaler.transform(da_prep['DA_price'].reshape(-1, 1))\n",
    "# include time lags of timeseries data for 1 week = 7 * 24h = 168h\n",
    "lags = 168\n",
    "for l in range(1, lags+1):\n",
    "    da_prep['l_{}'.format(l)] = da_prep['DA_price'].shift(l)\n",
    "    \n",
    "da_prep.dropna(inplace=True)"
   ]
  },
  {
   "cell_type": "code",
   "execution_count": 98,
   "metadata": {},
   "outputs": [
    {
     "data": {
      "text/plain": [
       "((731, 168, 1), (731, 24))"
      ]
     },
     "execution_count": 98,
     "metadata": {},
     "output_type": "execute_result"
    }
   ],
   "source": [
    "# create feature and label dataframes\n",
    "prelim_features = da_prep.drop('DA_price', axis=1)\n",
    "prelim_labels = pd.DataFrame(da_prep['DA_price'])\n",
    "\n",
    "# format labels to 24 hour output range\n",
    "for i in range(0, 24):\n",
    "    prelim_labels['t_{}'.format(i)] = prelim_labels['DA_price'].shift(-i)\n",
    "prelim_labels.drop('DA_price', axis=1, inplace=True)\n",
    "\n",
    "# apply one-day discretization to the data\n",
    "labels = prelim_labels[prelim_labels.index.hour == 0]\n",
    "features = prelim_features[prelim_features.index.hour == 0]\n",
    "\n",
    "features_train = features['2015':'2016']\n",
    "features_test = features['2017-01-01':'2017-08-30']\n",
    "labels_train = labels['2015':'2016']\n",
    "labels_test = labels['2017-01-01':'2017-08-30']\n",
    "\n",
    "samples_train = len(features_train)\n",
    "samples_test = len(features_test)\n",
    "timesteps = 168\n",
    "\n",
    "# convert pandas data frames to numpy ndarrays\n",
    "features_train = features_train.as_matrix().reshape(samples_train, timesteps, 1)\n",
    "features_test = features_test.as_matrix().reshape(samples_test, timesteps, 1)\n",
    "labels_train = labels_train.as_matrix()\n",
    "labels_test = labels_test.as_matrix()\n",
    "\n",
    "# check for correct data shape\n",
    "features_train.shape, labels_train.shape"
   ]
  },
  {
   "cell_type": "code",
   "execution_count": 99,
   "metadata": {
    "collapsed": true
   },
   "outputs": [],
   "source": [
    "timeseries_model = load_model('./models/timeseries_final_model_tuning.hdf5')"
   ]
  },
  {
   "cell_type": "code",
   "execution_count": 100,
   "metadata": {
    "collapsed": true
   },
   "outputs": [],
   "source": [
    "features_train_lin = features_train.reshape(features_train.shape[0], features_train.shape[1])\n",
    "features_test_lin = features_test.reshape(features_test.shape[0], features_test.shape[1])  \n",
    "bottleneck_features_train = timeseries_model.predict([features_train, features_train_lin])\n",
    "bottleneck_features_test = timeseries_model.predict([features_test, features_test_lin])"
   ]
  },
  {
   "cell_type": "code",
   "execution_count": 101,
   "metadata": {
    "collapsed": true
   },
   "outputs": [],
   "source": [
    "bneck_train_unscaled = da_scaler.inverse_transform(bottleneck_features_train)\n",
    "bneck_test_unscaled = da_scaler.inverse_transform(bottleneck_features_test)"
   ]
  },
  {
   "cell_type": "code",
   "execution_count": 102,
   "metadata": {},
   "outputs": [],
   "source": [
    "input_tensors_train = np.concatenate((data_train.as_matrix(), np.expand_dims(bneck_train_unscaled.flatten(), 1)), axis=1)\n",
    "input_tensors_test = np.concatenate((data_test.as_matrix(), np.expand_dims(bneck_test_unscaled.flatten(), 1)), axis=1)"
   ]
  },
  {
   "cell_type": "code",
   "execution_count": 103,
   "metadata": {
    "collapsed": true
   },
   "outputs": [],
   "source": [
    "output_tensors_train = da_scaler.inverse_transform(labels_train).flatten()\n",
    "output_tensors_test = da_scaler.inverse_transform(labels_test).flatten()"
   ]
  },
  {
   "cell_type": "code",
   "execution_count": 104,
   "metadata": {
    "collapsed": true
   },
   "outputs": [],
   "source": [
    "output_tensors_train = output_tensors_train.reshape(output_tensors_train.shape[0], -1)\n",
    "output_tensors_test = output_tensors_test.reshape(output_tensors_test.shape[0], -1)"
   ]
  },
  {
   "cell_type": "code",
   "execution_count": 105,
   "metadata": {
    "collapsed": true
   },
   "outputs": [],
   "source": [
    "# drop NaN values. Done here because of array length sensitivity\n",
    "input_tensors_train = input_tensors_train[~np.isnan(input_tensors_train).any(axis=1)]\n",
    "output_tensors_train = output_tensors_train[~np.isnan(input_tensors_train).any(axis=1)]"
   ]
  },
  {
   "cell_type": "code",
   "execution_count": 106,
   "metadata": {
    "collapsed": true
   },
   "outputs": [],
   "source": [
    "# drop NaN values. Done here because of array length sensitivity\n",
    "input_tensors_test = input_tensors_test[~np.isnan(input_tensors_test).any(axis=1)]\n",
    "output_tensors_test = output_tensors_test[~np.isnan(input_tensors_test).any(axis=1)]"
   ]
  },
  {
   "cell_type": "code",
   "execution_count": 117,
   "metadata": {
    "collapsed": true
   },
   "outputs": [],
   "source": [
    "from sklearn.linear_model import LinearRegression, ElasticNet, Lasso, Ridge, LassoLars\n",
    "from sklearn.metrics import mean_absolute_error\n",
    "from sklearn.preprocessing import MinMaxScaler"
   ]
  },
  {
   "cell_type": "code",
   "execution_count": 118,
   "metadata": {
    "collapsed": true
   },
   "outputs": [],
   "source": [
    "regressor = LinearRegression()"
   ]
  },
  {
   "cell_type": "code",
   "execution_count": 119,
   "metadata": {},
   "outputs": [
    {
     "data": {
      "text/plain": [
       "LinearRegression(copy_X=True, fit_intercept=True, n_jobs=1, normalize=False)"
      ]
     },
     "execution_count": 119,
     "metadata": {},
     "output_type": "execute_result"
    }
   ],
   "source": [
    "regressor.fit(input_tensors_train[:, [1, 10, -1]], output_tensors_train)"
   ]
  },
  {
   "cell_type": "code",
   "execution_count": 120,
   "metadata": {
    "collapsed": true
   },
   "outputs": [],
   "source": [
    "pred = regressor.predict(input_tensors_test[:, [1, 10, -1]])"
   ]
  },
  {
   "cell_type": "code",
   "execution_count": 121,
   "metadata": {},
   "outputs": [
    {
     "data": {
      "text/plain": [
       "array([[ 24.93220618],\n",
       "       [ 22.51200026],\n",
       "       [ 23.90634332],\n",
       "       ..., \n",
       "       [ 41.8549317 ],\n",
       "       [ 38.6667277 ],\n",
       "       [ 33.7195578 ]])"
      ]
     },
     "execution_count": 121,
     "metadata": {},
     "output_type": "execute_result"
    }
   ],
   "source": [
    "pred"
   ]
  },
  {
   "cell_type": "code",
   "execution_count": 122,
   "metadata": {},
   "outputs": [
    {
     "name": "stdout",
     "output_type": "stream",
     "text": [
      "5.11503350123\n"
     ]
    }
   ],
   "source": [
    "print(mean_absolute_error(output_tensors_test, pred))"
   ]
  },
  {
   "cell_type": "code",
   "execution_count": 123,
   "metadata": {
    "collapsed": true
   },
   "outputs": [],
   "source": [
    "df = pd.DataFrame({'true':output_tensors_test.flatten(), 'pred':pred.flatten()})"
   ]
  },
  {
   "cell_type": "code",
   "execution_count": 125,
   "metadata": {},
   "outputs": [
    {
     "data": {
      "text/plain": [
       "<matplotlib.axes._subplots.AxesSubplot at 0x7f5330531da0>"
      ]
     },
     "execution_count": 125,
     "metadata": {},
     "output_type": "execute_result"
    },
    {
     "data": {
      "image/png": "[encoded data removed]",
      "text/plain": [
       "<matplotlib.figure.Figure at 0x7f5330509e80>"
      ]
     },
     "metadata": {},
     "output_type": "display_data"
    }
   ],
   "source": [
    "df.iloc[500:600].plot(figsize=(20,10))"
   ]
  },
  {
   "cell_type": "code",
   "execution_count": 126,
   "metadata": {
    "collapsed": true
   },
   "outputs": [],
   "source": [
    "from sklearn.svm import SVR"
   ]
  },
  {
   "cell_type": "code",
   "execution_count": 127,
   "metadata": {
    "collapsed": true
   },
   "outputs": [],
   "source": [
    "model = SVR(kernel='linear', C=1)"
   ]
  },
  {
   "cell_type": "code",
   "execution_count": null,
   "metadata": {},
   "outputs": [
    {
     "name": "stderr",
     "output_type": "stream",
     "text": [
      "/home/fritz/opt/anaconda3/envs/datascience/lib/python3.6/site-packages/sklearn/utils/validation.py:547: DataConversionWarning: A column-vector y was passed when a 1d array was expected. Please change the shape of y to (n_samples, ), for example using ravel().\n",
      "  y = column_or_1d(y, warn=True)\n"
     ]
    }
   ],
   "source": [
    "model.fit(input_tensors_train[:, [2, -1]], output_tensors_train)\n",
    "pred = model.predict(input_tensors_test[:, [2, -1]])"
   ]
  },
  {
   "cell_type": "code",
   "execution_count": 132,
   "metadata": {},
   "outputs": [
    {
     "name": "stderr",
     "output_type": "stream",
     "text": [
      "/home/fritz/opt/anaconda3/envs/datascience/lib/python3.6/site-packages/sklearn/utils/validation.py:547: DataConversionWarning: A column-vector y was passed when a 1d array was expected. Please change the shape of y to (n_samples, ), for example using ravel().\n",
      "  y = column_or_1d(y, warn=True)\n"
     ]
    }
   ],
   "source": [
    "model.fit(input_tensors_train[:, [3, 10, -1]], output_tensors_train)\n",
    "pred = model.predict(input_tensors_test[:, [3, 10, -1]])"
   ]
  },
  {
   "cell_type": "code",
   "execution_count": 133,
   "metadata": {},
   "outputs": [
    {
     "name": "stdout",
     "output_type": "stream",
     "text": [
      "5.2844880173\n"
     ]
    }
   ],
   "source": [
    "# pred = scaler_output.inverse_transform(pred.flatten().reshape(-1, 1))\n",
    "print(mean_absolute_error(output_tensors_test, pred))"
   ]
  },
  {
   "cell_type": "code",
   "execution_count": 281,
   "metadata": {
    "collapsed": true
   },
   "outputs": [],
   "source": [
    "lstm_input_train = scaled_input_tensors_train[:, [2, -1]].reshape(17544//24, 24, 2)\n",
    "lstm_input_test = scaled_input_tensors_test[:, [2, -1]].reshape(5808//24, 24, 2)"
   ]
  },
  {
   "cell_type": "code",
   "execution_count": 282,
   "metadata": {
    "collapsed": true
   },
   "outputs": [],
   "source": [
    "lstm_output_train = scaled_output_tensors_train.reshape(17544//24, 24)"
   ]
  },
  {
   "cell_type": "code",
   "execution_count": 283,
   "metadata": {
    "collapsed": true
   },
   "outputs": [],
   "source": [
    "from keras.models import Model, load_model\n",
    "from keras.layers import Input, Add\n",
    "from keras.layers.core import Dense, Activation, Dropout\n",
    "from keras.layers.recurrent import LSTM\n",
    "from keras.layers.convolutional import Conv1D\n",
    "from keras.callbacks import ModelCheckpoint\n",
    "from keras.regularizers import l1_l2\n",
    "\n",
    "from sklearn.model_selection import train_test_split\n",
    "from sklearn.metrics import mean_absolute_error\n",
    "import json"
   ]
  },
  {
   "cell_type": "code",
   "execution_count": 284,
   "metadata": {},
   "outputs": [
    {
     "data": {
      "text/plain": [
       "(731, 24, 2)"
      ]
     },
     "execution_count": 284,
     "metadata": {},
     "output_type": "execute_result"
    }
   ],
   "source": [
    "lstm_input_train.shape"
   ]
  },
  {
   "cell_type": "code",
   "execution_count": 285,
   "metadata": {},
   "outputs": [
    {
     "name": "stdout",
     "output_type": "stream",
     "text": [
      "_________________________________________________________________\n",
      "Layer (type)                 Output Shape              Param #   \n",
      "=================================================================\n",
      "input_24 (InputLayer)        (None, 24, 2)             0         \n",
      "_________________________________________________________________\n",
      "lstm_27 (LSTM)               (None, 24, 64)            17152     \n",
      "_________________________________________________________________\n",
      "lstm_28 (LSTM)               (None, 64)                33024     \n",
      "_________________________________________________________________\n",
      "dense_15 (Dense)             (None, 24)                1560      \n",
      "=================================================================\n",
      "Total params: 51,736\n",
      "Trainable params: 51,736\n",
      "Non-trainable params: 0\n",
      "_________________________________________________________________\n"
     ]
    }
   ],
   "source": [
    "input_layer = Input(shape=(lstm_input_train.shape[1], lstm_input_train.shape[2]))\n",
    "# x = LSTM(1, return_sequences=True)(input_layer)\n",
    "x = LSTM(64, activation='linear', return_sequences=True)(input_layer)\n",
    "x = LSTM(64, activation='linear')(x)\n",
    "x = Dense(24)(x)\n",
    "model = Model(inputs=[input_layer], outputs=[x])\n",
    "model.summary()\n"
   ]
  },
  {
   "cell_type": "code",
   "execution_count": 286,
   "metadata": {
    "collapsed": true
   },
   "outputs": [],
   "source": [
    "model.compile(loss='mse', optimizer='adam')"
   ]
  },
  {
   "cell_type": "code",
   "execution_count": 287,
   "metadata": {},
   "outputs": [
    {
     "name": "stdout",
     "output_type": "stream",
     "text": [
      "Epoch 1/20\n",
      "731/731 [==============================] - ETA: 0s - loss: 0.031 - 6s - loss: 0.0316     \n",
      "Epoch 2/20\n",
      "731/731 [==============================] - 2s - loss: 0.0031     \n",
      "Epoch 3/20\n",
      "731/731 [==============================] - 2s - loss: 0.0029     \n",
      "Epoch 4/20\n",
      "731/731 [==============================] - 2s - loss: 0.0028     \n",
      "Epoch 5/20\n",
      "731/731 [==============================] - 3s - loss: 0.0027     \n",
      "Epoch 6/20\n",
      "731/731 [==============================] - 3s - loss: 0.0031     \n",
      "Epoch 7/20\n",
      "731/731 [==============================] - 3s - loss: 0.0027     \n",
      "Epoch 8/20\n",
      "731/731 [==============================] - 3s - loss: 0.0026     \n",
      "Epoch 9/20\n",
      "731/731 [==============================] - 3s - loss: 0.0026     \n",
      "Epoch 10/20\n",
      "731/731 [==============================] - 3s - loss: 0.0027     \n",
      "Epoch 11/20\n",
      "731/731 [==============================] - 3s - loss: 0.0025     \n",
      "Epoch 12/20\n",
      "731/731 [==============================] - 3s - loss: 0.0026     \n",
      "Epoch 13/20\n",
      "731/731 [==============================] - 3s - loss: 0.0027     \n",
      "Epoch 14/20\n",
      "731/731 [==============================] - 3s - loss: 0.0024     \n",
      "Epoch 15/20\n",
      "731/731 [==============================] - 3s - loss: 0.0024     \n",
      "Epoch 16/20\n",
      "731/731 [==============================] - 3s - loss: 0.0023     \n",
      "Epoch 17/20\n",
      "731/731 [==============================] - 3s - loss: 0.0025     \n",
      "Epoch 18/20\n",
      "731/731 [==============================] - 3s - loss: 0.0022     \n",
      "Epoch 19/20\n",
      "731/731 [==============================] - 3s - loss: 0.0022     \n",
      "Epoch 20/20\n",
      "731/731 [==============================] - 3s - loss: 0.0022     \n"
     ]
    },
    {
     "data": {
      "text/plain": [
       "<keras.callbacks.History at 0x7f1c23cfbfd0>"
      ]
     },
     "execution_count": 287,
     "metadata": {},
     "output_type": "execute_result"
    }
   ],
   "source": [
    "model.fit(lstm_input_train, lstm_output_train, batch_size=10, epochs=20)"
   ]
  },
  {
   "cell_type": "code",
   "execution_count": 288,
   "metadata": {
    "collapsed": true
   },
   "outputs": [],
   "source": [
    "pred = model.predict(lstm_input_test)\n",
    "pred = scaler_output.inverse_transform(pred.flatten().reshape(-1, 1))"
   ]
  },
  {
   "cell_type": "code",
   "execution_count": 289,
   "metadata": {},
   "outputs": [
    {
     "name": "stdout",
     "output_type": "stream",
     "text": [
      "5.94842797225\n"
     ]
    }
   ],
   "source": [
    "print(mean_absolute_error(output_tensors_test, pred))"
   ]
  },
  {
   "cell_type": "code",
   "execution_count": null,
   "metadata": {
    "collapsed": true
   },
   "outputs": [],
   "source": []
  },
  {
   "cell_type": "code",
   "execution_count": null,
   "metadata": {
    "collapsed": true
   },
   "outputs": [],
   "source": []
  },
  {
   "cell_type": "code",
   "execution_count": null,
   "metadata": {
    "collapsed": true
   },
   "outputs": [],
   "source": []
  },
  {
   "cell_type": "code",
   "execution_count": 105,
   "metadata": {},
   "outputs": [
    {
     "name": "stdout",
     "output_type": "stream",
     "text": [
      "_________________________________________________________________\n",
      "Layer (type)                 Output Shape              Param #   \n",
      "=================================================================\n",
      "input_4 (InputLayer)         (None, 7)                 0         \n",
      "_________________________________________________________________\n",
      "dense_1 (Dense)              (None, 1)                 8         \n",
      "=================================================================\n",
      "Total params: 8\n",
      "Trainable params: 8\n",
      "Non-trainable params: 0\n",
      "_________________________________________________________________\n"
     ]
    }
   ],
   "source": [
    "lin_input_layer = Input(shape=(scaled_input_tensors_train.shape[1],))\n",
    "# x = Dense(10)(lin_input_layer)\n",
    "x = Dense(1)(lin_input_layer)\n",
    "\n",
    "model = Model(inputs=[lin_input_layer], outputs=[x])\n",
    "model.summary()"
   ]
  },
  {
   "cell_type": "code",
   "execution_count": 236,
   "metadata": {},
   "outputs": [
    {
     "name": "stdout",
     "output_type": "stream",
     "text": [
      "Epoch 1/5\n",
      "17544/17544 [==============================] - 2s - loss: 0.0018     \n",
      "Epoch 2/5\n",
      " 1200/17544 [=>............................] - ETA: 2s - loss: 0.0019"
     ]
    },
    {
     "name": "stderr",
     "output_type": "stream",
     "text": [
      "/home/fritz/opt/anaconda3/envs/datascience/lib/python3.6/site-packages/keras/callbacks.py:405: RuntimeWarning: Can save best model only with val_loss available, skipping.\n",
      "  'skipping.' % (self.monitor), RuntimeWarning)\n"
     ]
    },
    {
     "name": "stdout",
     "output_type": "stream",
     "text": [
      "17544/17544 [==============================] - 2s - loss: 0.0018     \n",
      "Epoch 3/5\n",
      "17544/17544 [==============================] - 1s - loss: 0.0018     \n",
      "Epoch 4/5\n",
      "17544/17544 [==============================] - 2s - loss: 0.0018     \n",
      "Epoch 5/5\n",
      "17544/17544 [==============================] - 2s - loss: 0.0018     \n"
     ]
    }
   ],
   "source": [
    "model.compile(loss='mse', optimizer='adam')\n",
    "checkpoint = ModelCheckpoint('./models/timeseries_plus_forecasts.hdf5', save_best_only=True)\n",
    "hist = model.fit(scaled_input_tensors_train, scaled_output_tensors_train,\n",
    "                 callbacks=[checkpoint], \n",
    "                 verbose=1, batch_size=10, epochs=5)\n",
    "\n",
    "# best = load_model('./models/timeseries_plus_forecasts.hdf5')\n",
    "pred = model.predict(scaled_input_tensors_test)\n",
    "pred = scaler_output.inverse_transform(pred.flatten().reshape(-1, 1))\n"
   ]
  },
  {
   "cell_type": "code",
   "execution_count": 237,
   "metadata": {},
   "outputs": [
    {
     "name": "stdout",
     "output_type": "stream",
     "text": [
      "5.09016250743\n"
     ]
    }
   ],
   "source": [
    "print(mean_absolute_error(output_tensors_test, pred))"
   ]
  },
  {
   "cell_type": "code",
   "execution_count": null,
   "metadata": {
    "collapsed": true
   },
   "outputs": [],
   "source": []
  }
 ],
 "metadata": {
  "kernelspec": {
   "display_name": "Python 3",
   "language": "python",
   "name": "python3"
  },
  "language_info": {
   "codemirror_mode": {
    "name": "ipython",
    "version": 3
   },
   "file_extension": ".py",
   "mimetype": "text/x-python",
   "name": "python",
   "nbconvert_exporter": "python",
   "pygments_lexer": "ipython3",
   "version": "3.6.1"
  }
 },
 "nbformat": 4,
 "nbformat_minor": 2
}
